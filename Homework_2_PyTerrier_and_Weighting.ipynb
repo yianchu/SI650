{
  "cells": [
    {
      "cell_type": "markdown",
      "metadata": {
        "id": "6UxEkLc6yz6J"
      },
      "source": [
        "# SI 650 / EECS 549: Homework 2\n",
        "\n",
        "## Introduction to PyTerrier and Weighting Functions\n",
        "\n",
        "This homework is intended to expose you to other types of information retrieval and demonstrates the use of another state of the art IR library, [PyTerrier](https://github.com/terrier-org/pyterrier). \n",
        "\n",
        "The overall learning goals of the assignment across all tasks are\n",
        "  - Learn how to install (and debug) new software libraries\n",
        "  - Learn how to use PyTerrier  \n",
        "  - Understand how to use document augmentation\n",
        "  - Gain additional programming and debugging skills when working with modern IR libraries\n",
        "  - Learn how weighting functions work and are implemented\n",
        "  - Gain skills in experimentation and evaluation of IR models\n",
        "  \n",
        "Homework 2 will have you working on the following tasks to get you started:\n",
        "  - PyTerrier installation & configuration\n",
        "  - indexing a collection\n",
        "  - accessing an index\n",
        "  - using the `BatchRetrieve` transformer for searching an index\n",
        "  - conducting an `Experiment`\n",
        "  - Writing BM25 and Pivoted normalization from scratch as weighting functions\n",
        "  - Writing your own custom weighting function\n",
        "\n",
        "For all parts of the homework, you shoud run them on your local computer with enough time. We _strongly_ discourage running these on any remote system (e.g., colab) at the moment, as we have designed this homework in mind with helping you build the skills of installing and runnnig complex libraries.\n",
        "\n",
        "For each notebook, all the programming tasks that you will need to complete are marked with **Task** in a cell title comment. You will need to do a bit of analysis and writing. Writing responses should be submitted in a **separate** document than the notebook.\n",
        "\n",
        "Like many python-based IR frameworks, PyTerrier  uses a Java-based library underneith, [Terrier information retrieval toolkit](http://terrier.org), so you may need to set `JAVA_HOME` accordingly. Java is a high performance computing language and has a rich set of efficient implemenations for many indexing and retrieval operations. PyTerrier is relatively new in 2020, but Terrier has a long history dating back to 2001 and  makes it easy to perform IR experiments in Python, which could come in handy for you when doing your course project.\n",
        "\n",
        "To complete the homework, you will need to see the [PyTerrier documentation](https://pyterrier.readthedocs.io/en/latest/) for many more details."
      ]
    },
    {
      "cell_type": "code",
      "execution_count": null,
      "metadata": {
        "colab": {
          "base_uri": "https://localhost:8080/"
        },
        "id": "BtUoMXjCXxs-",
        "outputId": "f3b19411-15cc-455d-ed11-943ab7ba82bc"
      },
      "outputs": [
        {
          "name": "stdout",
          "output_type": "stream",
          "text": [
            "Looking in indexes: https://pypi.org/simple, https://us-python.pkg.dev/colab-wheels/public/simple/\n",
            "Requirement already satisfied: python-terrier in /usr/local/lib/python3.7/dist-packages (0.8.1)\n",
            "Requirement already satisfied: dill in /usr/local/lib/python3.7/dist-packages (from python-terrier) (0.3.5.1)\n",
            "Requirement already satisfied: jinja2 in /usr/local/lib/python3.7/dist-packages (from python-terrier) (2.11.3)\n",
            "Requirement already satisfied: wget in /usr/local/lib/python3.7/dist-packages (from python-terrier) (3.2)\n",
            "Requirement already satisfied: ir-datasets>=0.3.2 in /usr/local/lib/python3.7/dist-packages (from python-terrier) (0.5.3)\n",
            "Requirement already satisfied: pyjnius~=1.3.0 in /usr/local/lib/python3.7/dist-packages (from python-terrier) (1.3.0)\n",
            "Requirement already satisfied: nptyping==1.4.4 in /usr/local/lib/python3.7/dist-packages (from python-terrier) (1.4.4)\n",
            "Requirement already satisfied: tqdm in /usr/local/lib/python3.7/dist-packages (from python-terrier) (4.64.1)\n",
            "Requirement already satisfied: sklearn in /usr/local/lib/python3.7/dist-packages (from python-terrier) (0.0)\n",
            "Requirement already satisfied: requests in /usr/local/lib/python3.7/dist-packages (from python-terrier) (2.23.0)\n",
            "Requirement already satisfied: joblib in /usr/local/lib/python3.7/dist-packages (from python-terrier) (1.1.0)\n",
            "Requirement already satisfied: statsmodels in /usr/local/lib/python3.7/dist-packages (from python-terrier) (0.12.2)\n",
            "Requirement already satisfied: chest in /usr/local/lib/python3.7/dist-packages (from python-terrier) (0.2.3)\n",
            "Requirement already satisfied: numpy in /usr/local/lib/python3.7/dist-packages (from python-terrier) (1.21.6)\n",
            "Requirement already satisfied: ir-measures>=0.2.0 in /usr/local/lib/python3.7/dist-packages (from python-terrier) (0.3.1)\n",
            "Requirement already satisfied: pandas in /usr/local/lib/python3.7/dist-packages (from python-terrier) (1.3.5)\n",
            "Requirement already satisfied: scipy in /usr/local/lib/python3.7/dist-packages (from python-terrier) (1.7.3)\n",
            "Requirement already satisfied: matchpy in /usr/local/lib/python3.7/dist-packages (from python-terrier) (0.5.5)\n",
            "Requirement already satisfied: deprecation in /usr/local/lib/python3.7/dist-packages (from python-terrier) (2.1.0)\n",
            "Requirement already satisfied: more-itertools in /usr/local/lib/python3.7/dist-packages (from python-terrier) (8.14.0)\n",
            "Requirement already satisfied: typish>=1.7.0 in /usr/local/lib/python3.7/dist-packages (from nptyping==1.4.4->python-terrier) (1.9.3)\n",
            "Requirement already satisfied: pyyaml>=5.3.1 in /usr/local/lib/python3.7/dist-packages (from ir-datasets>=0.3.2->python-terrier) (6.0)\n",
            "Requirement already satisfied: beautifulsoup4>=4.4.1 in /usr/local/lib/python3.7/dist-packages (from ir-datasets>=0.3.2->python-terrier) (4.6.3)\n",
            "Requirement already satisfied: trec-car-tools>=2.5.4 in /usr/local/lib/python3.7/dist-packages (from ir-datasets>=0.3.2->python-terrier) (2.6)\n",
            "Requirement already satisfied: warc3-wet>=0.2.3 in /usr/local/lib/python3.7/dist-packages (from ir-datasets>=0.3.2->python-terrier) (0.2.3)\n",
            "Requirement already satisfied: zlib-state>=0.1.3 in /usr/local/lib/python3.7/dist-packages (from ir-datasets>=0.3.2->python-terrier) (0.1.5)\n",
            "Requirement already satisfied: warc3-wet-clueweb09>=0.2.5 in /usr/local/lib/python3.7/dist-packages (from ir-datasets>=0.3.2->python-terrier) (0.2.5)\n",
            "Requirement already satisfied: lz4>=3.1.1 in /usr/local/lib/python3.7/dist-packages (from ir-datasets>=0.3.2->python-terrier) (4.0.2)\n",
            "Requirement already satisfied: ijson>=3.1.3 in /usr/local/lib/python3.7/dist-packages (from ir-datasets>=0.3.2->python-terrier) (3.1.4)\n",
            "Requirement already satisfied: pyautocorpus>=0.1.1 in /usr/local/lib/python3.7/dist-packages (from ir-datasets>=0.3.2->python-terrier) (0.1.8)\n",
            "Requirement already satisfied: lxml>=4.5.2 in /usr/local/lib/python3.7/dist-packages (from ir-datasets>=0.3.2->python-terrier) (4.9.1)\n",
            "Requirement already satisfied: unlzw3>=0.2.1 in /usr/local/lib/python3.7/dist-packages (from ir-datasets>=0.3.2->python-terrier) (0.2.1)\n",
            "Requirement already satisfied: cwl-eval>=1.0.10 in /usr/local/lib/python3.7/dist-packages (from ir-measures>=0.2.0->python-terrier) (1.0.10)\n",
            "Requirement already satisfied: pytrec-eval-terrier>=0.5.2 in /usr/local/lib/python3.7/dist-packages (from ir-measures>=0.2.0->python-terrier) (0.5.4)\n",
            "Requirement already satisfied: six>=1.7.0 in /usr/local/lib/python3.7/dist-packages (from pyjnius~=1.3.0->python-terrier) (1.15.0)\n",
            "Requirement already satisfied: cython in /usr/local/lib/python3.7/dist-packages (from pyjnius~=1.3.0->python-terrier) (0.29.32)\n",
            "Requirement already satisfied: chardet<4,>=3.0.2 in /usr/local/lib/python3.7/dist-packages (from requests->python-terrier) (3.0.4)\n",
            "Requirement already satisfied: certifi>=2017.4.17 in /usr/local/lib/python3.7/dist-packages (from requests->python-terrier) (2022.6.15)\n",
            "Requirement already satisfied: idna<3,>=2.5 in /usr/local/lib/python3.7/dist-packages (from requests->python-terrier) (2.10)\n",
            "Requirement already satisfied: urllib3!=1.25.0,!=1.25.1,<1.26,>=1.21.1 in /usr/local/lib/python3.7/dist-packages (from requests->python-terrier) (1.24.3)\n",
            "Requirement already satisfied: cbor>=1.0.0 in /usr/local/lib/python3.7/dist-packages (from trec-car-tools>=2.5.4->ir-datasets>=0.3.2->python-terrier) (1.0.0)\n",
            "Requirement already satisfied: heapdict in /usr/local/lib/python3.7/dist-packages (from chest->python-terrier) (1.0.1)\n",
            "Requirement already satisfied: packaging in /usr/local/lib/python3.7/dist-packages (from deprecation->python-terrier) (21.3)\n",
            "Requirement already satisfied: MarkupSafe>=0.23 in /usr/local/lib/python3.7/dist-packages (from jinja2->python-terrier) (2.0.1)\n",
            "Requirement already satisfied: multiset<3.0,>=2.0 in /usr/local/lib/python3.7/dist-packages (from matchpy->python-terrier) (2.1.1)\n",
            "Requirement already satisfied: pyparsing!=3.0.5,>=2.0.2 in /usr/local/lib/python3.7/dist-packages (from packaging->deprecation->python-terrier) (3.0.9)\n",
            "Requirement already satisfied: python-dateutil>=2.7.3 in /usr/local/lib/python3.7/dist-packages (from pandas->python-terrier) (2.8.2)\n",
            "Requirement already satisfied: pytz>=2017.3 in /usr/local/lib/python3.7/dist-packages (from pandas->python-terrier) (2022.2.1)\n",
            "Requirement already satisfied: scikit-learn in /usr/local/lib/python3.7/dist-packages (from sklearn->python-terrier) (1.0.2)\n",
            "Requirement already satisfied: threadpoolctl>=2.0.0 in /usr/local/lib/python3.7/dist-packages (from scikit-learn->sklearn->python-terrier) (3.1.0)\n",
            "Requirement already satisfied: patsy>=0.5 in /usr/local/lib/python3.7/dist-packages (from statsmodels->python-terrier) (0.5.2)\n"
          ]
        }
      ],
      "source": [
        "!pip install python-terrier\n",
        "#!pip install --upgrade git+https://github.com/terrier-org/pyterrier.git#egg=python-terrier"
      ]
    },
    {
      "cell_type": "markdown",
      "metadata": {
        "id": "JlZ8FuS1Xsrw"
      },
      "source": [
        "### Imports"
      ]
    },
    {
      "cell_type": "code",
      "execution_count": 3,
      "metadata": {
        "id": "3FHfaYl8Xsrx"
      },
      "outputs": [],
      "source": [
        "import pandas as pd\n",
        "# Helpful for showing indexing information\n",
        "pd.set_option('display.max_colwidth', 150)\n",
        "\n",
        "import pyterrier as pt\n",
        "import os\n",
        "# os.environ[\"JAVA_HOME\"] = \"/Library/Java/JavaVirtualMachines/jdk-19.jdk/Contents/Home\"\n",
        "\n",
        "\n"
      ]
    },
    {
      "cell_type": "markdown",
      "metadata": {
        "id": "iH0Ds2370V0G"
      },
      "source": [
        "### Starting PyTerrier\n",
        "\n",
        "The first step is to initialise PyTerrier using PyTerrier's `init()` method. The `init()` method will download Terrier's jar file (if it's not already) and then start the Java Virtual Machine. To avoid downstream complications, we check `started()` prior to calling `init()` to prevent multiple Terrier instances from running concurrently."
      ]
    },
    {
      "cell_type": "code",
      "execution_count": 4,
      "metadata": {
        "id": "Z4qALBa90-7g"
      },
      "outputs": [
        {
          "name": "stderr",
          "output_type": "stream",
          "text": [
            "PyTerrier 0.8.1 has loaded Terrier 5.6 (built by craigmacdonald on 2021-09-17 13:27)\n",
            "\n"
          ]
        }
      ],
      "source": [
        "if not pt.started():\n",
        "    pt.init()"
      ]
    },
    {
      "cell_type": "markdown",
      "metadata": {
        "id": "-qqjVSu-5_FX"
      },
      "source": [
        "### Documents, Indexing and Indexes"
      ]
    },
    {
      "cell_type": "markdown",
      "metadata": {
        "id": "3soS1IIy5B83"
      },
      "source": [
        "PyTerrier typically works with Pandas dataframes for inputs. Let's create a toy set of documents in a dataframe to test. Note that the column name of `docno` is a special PyTerrier name that is the unique identifier for each document."
      ]
    },
    {
      "cell_type": "code",
      "execution_count": null,
      "metadata": {
        "colab": {
          "base_uri": "https://localhost:8080/",
          "height": 142
        },
        "id": "gSEiEuTE5uyL",
        "outputId": "d8971b16-409e-43f5-a8a0-0de11adbf882"
      },
      "outputs": [
        {
          "data": {
            "text/html": [
              "\n",
              "  <div id=\"df-96957d51-c5ca-495b-a809-bb3d4f26086a\">\n",
              "    <div class=\"colab-df-container\">\n",
              "      <div>\n",
              "<style scoped>\n",
              "    .dataframe tbody tr th:only-of-type {\n",
              "        vertical-align: middle;\n",
              "    }\n",
              "\n",
              "    .dataframe tbody tr th {\n",
              "        vertical-align: top;\n",
              "    }\n",
              "\n",
              "    .dataframe thead th {\n",
              "        text-align: right;\n",
              "    }\n",
              "</style>\n",
              "<table border=\"1\" class=\"dataframe\">\n",
              "  <thead>\n",
              "    <tr style=\"text-align: right;\">\n",
              "      <th></th>\n",
              "      <th>docno</th>\n",
              "      <th>text</th>\n",
              "    </tr>\n",
              "  </thead>\n",
              "  <tbody>\n",
              "    <tr>\n",
              "      <th>0</th>\n",
              "      <td>d1</td>\n",
              "      <td>this is the first document of many documents</td>\n",
              "    </tr>\n",
              "    <tr>\n",
              "      <th>1</th>\n",
              "      <td>d2</td>\n",
              "      <td>this is another document</td>\n",
              "    </tr>\n",
              "    <tr>\n",
              "      <th>2</th>\n",
              "      <td>d3</td>\n",
              "      <td>the topic of this document is unknown</td>\n",
              "    </tr>\n",
              "  </tbody>\n",
              "</table>\n",
              "</div>\n",
              "      <button class=\"colab-df-convert\" onclick=\"convertToInteractive('df-96957d51-c5ca-495b-a809-bb3d4f26086a')\"\n",
              "              title=\"Convert this dataframe to an interactive table.\"\n",
              "              style=\"display:none;\">\n",
              "        \n",
              "  <svg xmlns=\"http://www.w3.org/2000/svg\" height=\"24px\"viewBox=\"0 0 24 24\"\n",
              "       width=\"24px\">\n",
              "    <path d=\"M0 0h24v24H0V0z\" fill=\"none\"/>\n",
              "    <path d=\"M18.56 5.44l.94 2.06.94-2.06 2.06-.94-2.06-.94-.94-2.06-.94 2.06-2.06.94zm-11 1L8.5 8.5l.94-2.06 2.06-.94-2.06-.94L8.5 2.5l-.94 2.06-2.06.94zm10 10l.94 2.06.94-2.06 2.06-.94-2.06-.94-.94-2.06-.94 2.06-2.06.94z\"/><path d=\"M17.41 7.96l-1.37-1.37c-.4-.4-.92-.59-1.43-.59-.52 0-1.04.2-1.43.59L10.3 9.45l-7.72 7.72c-.78.78-.78 2.05 0 2.83L4 21.41c.39.39.9.59 1.41.59.51 0 1.02-.2 1.41-.59l7.78-7.78 2.81-2.81c.8-.78.8-2.07 0-2.86zM5.41 20L4 18.59l7.72-7.72 1.47 1.35L5.41 20z\"/>\n",
              "  </svg>\n",
              "      </button>\n",
              "      \n",
              "  <style>\n",
              "    .colab-df-container {\n",
              "      display:flex;\n",
              "      flex-wrap:wrap;\n",
              "      gap: 12px;\n",
              "    }\n",
              "\n",
              "    .colab-df-convert {\n",
              "      background-color: #E8F0FE;\n",
              "      border: none;\n",
              "      border-radius: 50%;\n",
              "      cursor: pointer;\n",
              "      display: none;\n",
              "      fill: #1967D2;\n",
              "      height: 32px;\n",
              "      padding: 0 0 0 0;\n",
              "      width: 32px;\n",
              "    }\n",
              "\n",
              "    .colab-df-convert:hover {\n",
              "      background-color: #E2EBFA;\n",
              "      box-shadow: 0px 1px 2px rgba(60, 64, 67, 0.3), 0px 1px 3px 1px rgba(60, 64, 67, 0.15);\n",
              "      fill: #174EA6;\n",
              "    }\n",
              "\n",
              "    [theme=dark] .colab-df-convert {\n",
              "      background-color: #3B4455;\n",
              "      fill: #D2E3FC;\n",
              "    }\n",
              "\n",
              "    [theme=dark] .colab-df-convert:hover {\n",
              "      background-color: #434B5C;\n",
              "      box-shadow: 0px 1px 3px 1px rgba(0, 0, 0, 0.15);\n",
              "      filter: drop-shadow(0px 1px 2px rgba(0, 0, 0, 0.3));\n",
              "      fill: #FFFFFF;\n",
              "    }\n",
              "  </style>\n",
              "\n",
              "      <script>\n",
              "        const buttonEl =\n",
              "          document.querySelector('#df-96957d51-c5ca-495b-a809-bb3d4f26086a button.colab-df-convert');\n",
              "        buttonEl.style.display =\n",
              "          google.colab.kernel.accessAllowed ? 'block' : 'none';\n",
              "\n",
              "        async function convertToInteractive(key) {\n",
              "          const element = document.querySelector('#df-96957d51-c5ca-495b-a809-bb3d4f26086a');\n",
              "          const dataTable =\n",
              "            await google.colab.kernel.invokeFunction('convertToInteractive',\n",
              "                                                     [key], {});\n",
              "          if (!dataTable) return;\n",
              "\n",
              "          const docLinkHtml = 'Like what you see? Visit the ' +\n",
              "            '<a target=\"_blank\" href=https://colab.research.google.com/notebooks/data_table.ipynb>data table notebook</a>'\n",
              "            + ' to learn more about interactive tables.';\n",
              "          element.innerHTML = '';\n",
              "          dataTable['output_type'] = 'display_data';\n",
              "          await google.colab.output.renderOutput(dataTable, element);\n",
              "          const docLink = document.createElement('div');\n",
              "          docLink.innerHTML = docLinkHtml;\n",
              "          element.appendChild(docLink);\n",
              "        }\n",
              "      </script>\n",
              "    </div>\n",
              "  </div>\n",
              "  "
            ],
            "text/plain": [
              "  docno                                          text\n",
              "0    d1  this is the first document of many documents\n",
              "1    d2                      this is another document\n",
              "2    d3         the topic of this document is unknown"
            ]
          },
          "execution_count": 142,
          "metadata": {},
          "output_type": "execute_result"
        }
      ],
      "source": [
        "docs_df = pd.DataFrame([\n",
        "        [\"d1\", \"this is the first document of many documents\"],\n",
        "        [\"d2\", \"this is another document\"],\n",
        "        [\"d3\", \"the topic of this document is unknown\"]\n",
        "    ], columns=[\"docno\", \"text\"])\n",
        "\n",
        "docs_df"
      ]
    },
    {
      "cell_type": "markdown",
      "metadata": {
        "id": "2RCtCCTU6GAj"
      },
      "source": [
        "Before any search engine can estimate which documents are most likely to be relevant for a given query, it must index the documents. \n",
        "\n",
        "In the following cell, we index the dataframe's documents. The index, with all its data structures, is written into a directory called `toydocs_index`. "
      ]
    },
    {
      "cell_type": "code",
      "execution_count": null,
      "metadata": {
        "colab": {
          "base_uri": "https://localhost:8080/",
          "height": 37
        },
        "id": "1YvLhEOS6V8w",
        "outputId": "4b9bbc85-af9b-48ef-9006-7a76ee0d06e2"
      },
      "outputs": [
        {
          "data": {
            "application/vnd.google.colaboratory.intrinsic+json": {
              "type": "string"
            },
            "text/plain": [
              "'./toydocs_index/data.properties'"
            ]
          },
          "execution_count": 233,
          "metadata": {},
          "output_type": "execute_result"
        }
      ],
      "source": [
        "index_dir = './toydocs_index'\n",
        "indexer = pt.DFIndexer(index_dir, overwrite=True)\n",
        "index_ref = indexer.index(docs_df[\"text\"], docs_df[\"docno\"])\n",
        "index_ref.toString()\n",
        "# a = pt.IndexFactory.of(index_ref)\n",
        "# pointer = a.getLexicon()[\"document\"]\n",
        "# for posting in a.getInvertedIndex().getPostings(pointer):\n",
        "#     print(str(posting) + \" doclen=%d\" % posting.getDocumentLength())\n"
      ]
    },
    {
      "cell_type": "markdown",
      "metadata": {
        "id": "TUm6r6_625gW"
      },
      "source": [
        "PyTerrier will generate a index in the `toydocs_index` directory and and we can list the files to see what kind of internal structure and files it made"
      ]
    },
    {
      "cell_type": "code",
      "execution_count": null,
      "metadata": {
        "colab": {
          "base_uri": "https://localhost:8080/"
        },
        "id": "TF45pl5O8p7R",
        "outputId": "b7ce0475-af08-466b-e778-adaa5f0ebc18"
      },
      "outputs": [
        {
          "data": {
            "text/plain": [
              "['data.meta.zdata',\n",
              " 'data.meta-0.fsomapfile',\n",
              " 'data.lexicon.fsomaphash',\n",
              " 'data.properties',\n",
              " 'data.direct.bf',\n",
              " 'data.document.fsarrayfile',\n",
              " 'data.inverted.bf',\n",
              " 'data.lexicon.fsomapfile',\n",
              " 'data.meta.idx']"
            ]
          },
          "execution_count": 234,
          "metadata": {},
          "output_type": "execute_result"
        }
      ],
      "source": [
        "os.listdir(index_dir)"
      ]
    },
    {
      "cell_type": "markdown",
      "metadata": {
        "id": "fORj-EsvXsr7"
      },
      "source": [
        "Though not necessary, we encourage you to take a look at some of these files. What's in them? Do they make any sense? For fun, it can be useful to go find the python (or Java) code that reads these files and try to understand what makes up the index."
      ]
    },
    {
      "cell_type": "markdown",
      "metadata": {
        "id": "B2b8isFP3Kv6"
      },
      "source": [
        "Once we've generated the files associated with `index_ref`, we can load the information into an actual PyTerrier index using the method `pt.IndexFactory.of()`. "
      ]
    },
    {
      "cell_type": "code",
      "execution_count": null,
      "metadata": {
        "id": "TTM17szD6pNy"
      },
      "outputs": [],
      "source": [
        "index = pt.IndexFactory.of(index_ref)"
      ]
    },
    {
      "cell_type": "markdown",
      "metadata": {
        "id": "mZe3HD5i7G3v"
      },
      "source": [
        "See Terrier's [`Index`](http://terrier.org/docs/current/javadoc/org/terrier/structures/Index.html) object for documentation, which is written in Java's Javadoc format. We can call these methods on our index object as well. Important methods to note are:\n",
        " - `getCollectionStatistics()`\n",
        " - `getInvertedIndex()`\n",
        " - `getLexicon()`\n",
        "\n",
        "Let's see what is returned by the `CollectionStatistics()` method:"
      ]
    },
    {
      "cell_type": "code",
      "execution_count": null,
      "metadata": {
        "colab": {
          "base_uri": "https://localhost:8080/"
        },
        "id": "6-gXEDSX65bx",
        "outputId": "b16b28e2-8197-445c-a84c-9744c97b0e18"
      },
      "outputs": [
        {
          "name": "stdout",
          "output_type": "stream",
          "text": [
            "Number of documents: 3\n",
            "Number of terms: 4\n",
            "Number of postings: 6\n",
            "Number of fields: 3\n",
            "Number of tokens: 7\n",
            "Field names: [url, title, abstract]\n",
            "Positions:   false\n",
            "\n"
          ]
        }
      ],
      "source": [
        "print(index.getCollectionStatistics().toString())"
      ]
    },
    {
      "cell_type": "markdown",
      "metadata": {
        "id": "i6HrR4lc7i10"
      },
      "source": [
        "Let's unpack the statistics a bit more. We have 3 documents but why do we have only 4 unique terms? We can look at which terms we have by getting the [`Lexicon`](http://terrier.org/docs/current/javadoc/org/terrier/structures/Lexicon.html) object, which contains our vocabulary. We can iterate over the `Lexicon` from Python like a dictionary to see which terms are present and whaht information there is about each term after indexing."
      ]
    },
    {
      "cell_type": "code",
      "execution_count": null,
      "metadata": {
        "colab": {
          "base_uri": "https://localhost:8080/"
        },
        "id": "us2mAzTW7Bny",
        "outputId": "601a11bf-020b-46f8-88a9-eb4fd11b4b69"
      },
      "outputs": [
        {
          "name": "stdout",
          "output_type": "stream",
          "text": [
            "document (<class 'str'>) -> term0 Nt=3 TF=4 maxTF=2 @{0 0 0} TFf=0,0,0 (<class 'jnius.reflect.org.terrier.structures.LexiconEntry'>)\n",
            "first (<class 'str'>) -> term1 Nt=1 TF=1 maxTF=1 @{0 2 0} TFf=0,0,0 (<class 'jnius.reflect.org.terrier.structures.LexiconEntry'>)\n",
            "topic (<class 'str'>) -> term2 Nt=1 TF=1 maxTF=1 @{0 2 5} TFf=0,0,0 (<class 'jnius.reflect.org.terrier.structures.LexiconEntry'>)\n",
            "unknown (<class 'str'>) -> term3 Nt=1 TF=1 maxTF=1 @{0 3 4} TFf=0,0,0 (<class 'jnius.reflect.org.terrier.structures.LexiconEntry'>)\n"
          ]
        }
      ],
      "source": [
        "for kv in index.getLexicon():\n",
        "    # Let's all print the type information of each to get a sense of what we're working with\n",
        "    print(\"%s (%s) -> %s (%s)\" % (kv.getKey(), type(kv.getKey()), kv.getValue().toString(), type(kv.getValue()) ) )"
      ]
    },
    {
      "cell_type": "markdown",
      "metadata": {
        "id": "fwbp94gh86pw"
      },
      "source": [
        "Iterating over the `Lexicon` shows that we're mapping a `String ` term to a [`LexiconEntry`](http://terrier.org/docs/current/javadoc/org/terrier/structures/LexiconEntry.html) object, which itself is an [`EntryStatistics`](http://terrier.org/docs/current/javadoc/org/terrier/structures/EntryStatistics.html). The `LexiconEntry` contains information including the statistics of that term.\n",
        "\n",
        "Looking at what we indexed reveals that PyTerrier is removing stopwords for us, much like Pyserini did. PyTerrier is also doing some token normalization as well so that we only have \"document\" in our index, even though document `d1` has the token \"documents\"! By default Terrier removes standard stopwords and applies Porter's stemmer (which we talked about in class), though these behaviors can be configured.\n",
        "\n",
        "The `EntryStatistics` also provides a few other fields that offer insights:\n",
        " - `Nt` is the number of unique documents that each term occurs in – this is useful for calculating IDF.\n",
        " - `TF` is the total number of occurrences – some weighting models use this instead of Nt.\n",
        " - The numbers in the `@{}` are a pointer – they tell Terrier where the postings are for that term in the inverted index data structure."
      ]
    },
    {
      "cell_type": "markdown",
      "metadata": {
        "id": "_HELV_K2XssA"
      },
      "source": [
        "PyTerrier also supports directly looking up a word using the `[]` operator, much like we would if we were looking up a key's value in a dictionary. Let's look up the value for the word \"document\":"
      ]
    },
    {
      "cell_type": "code",
      "execution_count": null,
      "metadata": {
        "colab": {
          "base_uri": "https://localhost:8080/"
        },
        "id": "SZmi9498-Ijw",
        "outputId": "b9dc6662-26ff-45c6-e484-924b567d461a"
      },
      "outputs": [
        {
          "name": "stdout",
          "output_type": "stream",
          "text": [
            "term0 Nt=3 TF=4 maxTF=2 @{0 0 0} TFf=0,0,0\n"
          ]
        }
      ],
      "source": [
        "print(index.getLexicon()[\"document\"])"
      ]
    },
    {
      "cell_type": "markdown",
      "metadata": {
        "id": "vaKaU59l-kzg"
      },
      "source": [
        "We can use the information in the `Lexicon` to also look up documents as well. Remember from class that an inverted index is a mapping from a term to which *documents* each term occurs in. The `LexiconEntry` for a word contains the pointer to where to find the documents for that word in the inverted index. \n",
        "\n",
        "The object retrieved from using the `[]` operator with a `Lexicon` is a pointer that we can use with the inverted index."
      ]
    },
    {
      "cell_type": "code",
      "execution_count": null,
      "metadata": {
        "colab": {
          "base_uri": "https://localhost:8080/"
        },
        "id": "XQki_Pds8ut2",
        "outputId": "f2a21e3c-3d20-4cfc-c65f-1b2f73b6c6c3"
      },
      "outputs": [
        {
          "name": "stdout",
          "output_type": "stream",
          "text": [
            "(0,2,F[0,0,0]) doclen=3\n",
            "(1,1,F[0,0,0]) doclen=1\n",
            "(2,1,F[0,0,0]) doclen=3\n"
          ]
        }
      ],
      "source": [
        "pointer = index.getLexicon()[\"document\"]\n",
        "for posting in index.getInvertedIndex().getPostings(pointer):\n",
        "    print(str(posting) + \" doclen=%d\" % posting.getDocumentLength())"
      ]
    },
    {
      "cell_type": "markdown",
      "metadata": {
        "id": "l7EaoIIO_DPx"
      },
      "source": [
        "From this output, we can see that the term \"document\" occurs in all three documents, as well as how long those documents are. Note that PyTerrier starts counting indexed documents with `int` values starting from 0 (called *docids*). These *docids* are then mapped back to *docnos*, which are the unique string identifiers for a document, e.g., the \"`d1`\", \"`d2`\" we used. This mapping is stored in a separate data structure called the *metaindex*, though you likely won't need to use that."
      ]
    },
    {
      "cell_type": "markdown",
      "metadata": {
        "id": "zOSdVAr-CGRf"
      },
      "source": [
        "## Searching an Index\n",
        "\n",
        "Our way into search in PyTerrier is called `BatchRetrieve`. BatchRetrieve is configured by specifying an index and a weighting model. Here', we'll use the `Tf` weighting, which is just term frequency; there are multiple possible weighting schemes, as we'll see later. Using a `BatchRetrieve` object, we will search for a single-word query, `\"document\"`."
      ]
    },
    {
      "cell_type": "code",
      "execution_count": null,
      "metadata": {
        "colab": {
          "base_uri": "https://localhost:8080/",
          "height": 142
        },
        "id": "XtK93nwXCF5C",
        "outputId": "7c71baf2-118c-42ba-8810-35e864f1d992"
      },
      "outputs": [
        {
          "data": {
            "text/html": [
              "\n",
              "  <div id=\"df-dba49dae-1f8d-463c-9f2b-8158251f3591\">\n",
              "    <div class=\"colab-df-container\">\n",
              "      <div>\n",
              "<style scoped>\n",
              "    .dataframe tbody tr th:only-of-type {\n",
              "        vertical-align: middle;\n",
              "    }\n",
              "\n",
              "    .dataframe tbody tr th {\n",
              "        vertical-align: top;\n",
              "    }\n",
              "\n",
              "    .dataframe thead th {\n",
              "        text-align: right;\n",
              "    }\n",
              "</style>\n",
              "<table border=\"1\" class=\"dataframe\">\n",
              "  <thead>\n",
              "    <tr style=\"text-align: right;\">\n",
              "      <th></th>\n",
              "      <th>qid</th>\n",
              "      <th>docid</th>\n",
              "      <th>docno</th>\n",
              "      <th>rank</th>\n",
              "      <th>score</th>\n",
              "      <th>query</th>\n",
              "    </tr>\n",
              "  </thead>\n",
              "  <tbody>\n",
              "    <tr>\n",
              "      <th>0</th>\n",
              "      <td>1</td>\n",
              "      <td>0</td>\n",
              "      <td>d1</td>\n",
              "      <td>0</td>\n",
              "      <td>2.0</td>\n",
              "      <td>document</td>\n",
              "    </tr>\n",
              "    <tr>\n",
              "      <th>1</th>\n",
              "      <td>1</td>\n",
              "      <td>1</td>\n",
              "      <td>d2</td>\n",
              "      <td>1</td>\n",
              "      <td>1.0</td>\n",
              "      <td>document</td>\n",
              "    </tr>\n",
              "    <tr>\n",
              "      <th>2</th>\n",
              "      <td>1</td>\n",
              "      <td>2</td>\n",
              "      <td>d3</td>\n",
              "      <td>2</td>\n",
              "      <td>1.0</td>\n",
              "      <td>document</td>\n",
              "    </tr>\n",
              "  </tbody>\n",
              "</table>\n",
              "</div>\n",
              "      <button class=\"colab-df-convert\" onclick=\"convertToInteractive('df-dba49dae-1f8d-463c-9f2b-8158251f3591')\"\n",
              "              title=\"Convert this dataframe to an interactive table.\"\n",
              "              style=\"display:none;\">\n",
              "        \n",
              "  <svg xmlns=\"http://www.w3.org/2000/svg\" height=\"24px\"viewBox=\"0 0 24 24\"\n",
              "       width=\"24px\">\n",
              "    <path d=\"M0 0h24v24H0V0z\" fill=\"none\"/>\n",
              "    <path d=\"M18.56 5.44l.94 2.06.94-2.06 2.06-.94-2.06-.94-.94-2.06-.94 2.06-2.06.94zm-11 1L8.5 8.5l.94-2.06 2.06-.94-2.06-.94L8.5 2.5l-.94 2.06-2.06.94zm10 10l.94 2.06.94-2.06 2.06-.94-2.06-.94-.94-2.06-.94 2.06-2.06.94z\"/><path d=\"M17.41 7.96l-1.37-1.37c-.4-.4-.92-.59-1.43-.59-.52 0-1.04.2-1.43.59L10.3 9.45l-7.72 7.72c-.78.78-.78 2.05 0 2.83L4 21.41c.39.39.9.59 1.41.59.51 0 1.02-.2 1.41-.59l7.78-7.78 2.81-2.81c.8-.78.8-2.07 0-2.86zM5.41 20L4 18.59l7.72-7.72 1.47 1.35L5.41 20z\"/>\n",
              "  </svg>\n",
              "      </button>\n",
              "      \n",
              "  <style>\n",
              "    .colab-df-container {\n",
              "      display:flex;\n",
              "      flex-wrap:wrap;\n",
              "      gap: 12px;\n",
              "    }\n",
              "\n",
              "    .colab-df-convert {\n",
              "      background-color: #E8F0FE;\n",
              "      border: none;\n",
              "      border-radius: 50%;\n",
              "      cursor: pointer;\n",
              "      display: none;\n",
              "      fill: #1967D2;\n",
              "      height: 32px;\n",
              "      padding: 0 0 0 0;\n",
              "      width: 32px;\n",
              "    }\n",
              "\n",
              "    .colab-df-convert:hover {\n",
              "      background-color: #E2EBFA;\n",
              "      box-shadow: 0px 1px 2px rgba(60, 64, 67, 0.3), 0px 1px 3px 1px rgba(60, 64, 67, 0.15);\n",
              "      fill: #174EA6;\n",
              "    }\n",
              "\n",
              "    [theme=dark] .colab-df-convert {\n",
              "      background-color: #3B4455;\n",
              "      fill: #D2E3FC;\n",
              "    }\n",
              "\n",
              "    [theme=dark] .colab-df-convert:hover {\n",
              "      background-color: #434B5C;\n",
              "      box-shadow: 0px 1px 3px 1px rgba(0, 0, 0, 0.15);\n",
              "      filter: drop-shadow(0px 1px 2px rgba(0, 0, 0, 0.3));\n",
              "      fill: #FFFFFF;\n",
              "    }\n",
              "  </style>\n",
              "\n",
              "      <script>\n",
              "        const buttonEl =\n",
              "          document.querySelector('#df-dba49dae-1f8d-463c-9f2b-8158251f3591 button.colab-df-convert');\n",
              "        buttonEl.style.display =\n",
              "          google.colab.kernel.accessAllowed ? 'block' : 'none';\n",
              "\n",
              "        async function convertToInteractive(key) {\n",
              "          const element = document.querySelector('#df-dba49dae-1f8d-463c-9f2b-8158251f3591');\n",
              "          const dataTable =\n",
              "            await google.colab.kernel.invokeFunction('convertToInteractive',\n",
              "                                                     [key], {});\n",
              "          if (!dataTable) return;\n",
              "\n",
              "          const docLinkHtml = 'Like what you see? Visit the ' +\n",
              "            '<a target=\"_blank\" href=https://colab.research.google.com/notebooks/data_table.ipynb>data table notebook</a>'\n",
              "            + ' to learn more about interactive tables.';\n",
              "          element.innerHTML = '';\n",
              "          dataTable['output_type'] = 'display_data';\n",
              "          await google.colab.output.renderOutput(dataTable, element);\n",
              "          const docLink = document.createElement('div');\n",
              "          docLink.innerHTML = docLinkHtml;\n",
              "          element.appendChild(docLink);\n",
              "        }\n",
              "      </script>\n",
              "    </div>\n",
              "  </div>\n",
              "  "
            ],
            "text/plain": [
              "  qid  docid docno  rank  score     query\n",
              "0   1      0    d1     0    2.0  document\n",
              "1   1      1    d2     1    1.0  document\n",
              "2   1      2    d3     2    1.0  document"
            ]
          },
          "execution_count": 221,
          "metadata": {},
          "output_type": "execute_result"
        }
      ],
      "source": [
        "br = pt.BatchRetrieve(index, wmodel=\"Tf\")\n",
        "br.search(\"document\")"
      ]
    },
    {
      "cell_type": "markdown",
      "metadata": {
        "id": "BHqSfTCtDM2T"
      },
      "source": [
        "The `search()` method returns a Pandas dataframe with columns:\n",
        " - `qid`: this is the query id, which is by default \"1\", since we issued only one query\n",
        " - `docid`: Terrier' internal integer for each document\n",
        " - `docno`: the external (string) unique identifier for each document\n",
        " - `score`: since we use the `Tf` weighting model, this score corresponds the total frequency of the query (terms) in each document\n",
        " - `rank`: A handy attribute showing the descending order by score\n",
        " - `query`: the input query\n",
        "\n",
        "As expected, the `Tf` weighting model used here only counts the frequencies of the query terms in each document, i.e.:\n",
        "$$\n",
        "score(d,q) = \\sum_{t \\in q} tf_{t,d}\n",
        "$$\n",
        "This is the \"Raw TF\" model we discussed in class! \n",
        "\n",
        "Hence, it's clear that document `d1` should be the highest scored document with two occurrences (c.f. `'document'` and `'documents'`).  "
      ]
    },
    {
      "cell_type": "markdown",
      "metadata": {
        "id": "BJBXquPOD6q7"
      },
      "source": [
        "### Searching with multiple queries\n",
        "\n",
        "We can search for more than one query at a time using the  `transform()` method rather than the `search()` method. PyTerrier uses the notion of transformers, which we'll describe much more in Part 2, but for now, you can think of this function as transforming some input to some output. In our case, we'll create a Pandas DataFrame with our queries, which we'll provide as input to the `BatchRetrieve` object, to \"tranform\" into results.\n",
        "\n",
        "Note that we not only need to provide queries, but also query identifiers in the `qid` column. These `qid` values will let us distinguish which results go to which query."
      ]
    },
    {
      "cell_type": "code",
      "execution_count": null,
      "metadata": {
        "colab": {
          "base_uri": "https://localhost:8080/",
          "height": 111
        },
        "id": "gUiu5dDBXssE",
        "outputId": "79f5c659-ede7-4561-b09f-59e48b377bc6"
      },
      "outputs": [
        {
          "data": {
            "text/html": [
              "\n",
              "  <div id=\"df-637b036b-5e59-471b-bf14-a5c7727acaf3\">\n",
              "    <div class=\"colab-df-container\">\n",
              "      <div>\n",
              "<style scoped>\n",
              "    .dataframe tbody tr th:only-of-type {\n",
              "        vertical-align: middle;\n",
              "    }\n",
              "\n",
              "    .dataframe tbody tr th {\n",
              "        vertical-align: top;\n",
              "    }\n",
              "\n",
              "    .dataframe thead th {\n",
              "        text-align: right;\n",
              "    }\n",
              "</style>\n",
              "<table border=\"1\" class=\"dataframe\">\n",
              "  <thead>\n",
              "    <tr style=\"text-align: right;\">\n",
              "      <th></th>\n",
              "      <th>qid</th>\n",
              "      <th>query</th>\n",
              "    </tr>\n",
              "  </thead>\n",
              "  <tbody>\n",
              "    <tr>\n",
              "      <th>0</th>\n",
              "      <td>q1</td>\n",
              "      <td>document</td>\n",
              "    </tr>\n",
              "    <tr>\n",
              "      <th>1</th>\n",
              "      <td>q2</td>\n",
              "      <td>first document</td>\n",
              "    </tr>\n",
              "  </tbody>\n",
              "</table>\n",
              "</div>\n",
              "      <button class=\"colab-df-convert\" onclick=\"convertToInteractive('df-637b036b-5e59-471b-bf14-a5c7727acaf3')\"\n",
              "              title=\"Convert this dataframe to an interactive table.\"\n",
              "              style=\"display:none;\">\n",
              "        \n",
              "  <svg xmlns=\"http://www.w3.org/2000/svg\" height=\"24px\"viewBox=\"0 0 24 24\"\n",
              "       width=\"24px\">\n",
              "    <path d=\"M0 0h24v24H0V0z\" fill=\"none\"/>\n",
              "    <path d=\"M18.56 5.44l.94 2.06.94-2.06 2.06-.94-2.06-.94-.94-2.06-.94 2.06-2.06.94zm-11 1L8.5 8.5l.94-2.06 2.06-.94-2.06-.94L8.5 2.5l-.94 2.06-2.06.94zm10 10l.94 2.06.94-2.06 2.06-.94-2.06-.94-.94-2.06-.94 2.06-2.06.94z\"/><path d=\"M17.41 7.96l-1.37-1.37c-.4-.4-.92-.59-1.43-.59-.52 0-1.04.2-1.43.59L10.3 9.45l-7.72 7.72c-.78.78-.78 2.05 0 2.83L4 21.41c.39.39.9.59 1.41.59.51 0 1.02-.2 1.41-.59l7.78-7.78 2.81-2.81c.8-.78.8-2.07 0-2.86zM5.41 20L4 18.59l7.72-7.72 1.47 1.35L5.41 20z\"/>\n",
              "  </svg>\n",
              "      </button>\n",
              "      \n",
              "  <style>\n",
              "    .colab-df-container {\n",
              "      display:flex;\n",
              "      flex-wrap:wrap;\n",
              "      gap: 12px;\n",
              "    }\n",
              "\n",
              "    .colab-df-convert {\n",
              "      background-color: #E8F0FE;\n",
              "      border: none;\n",
              "      border-radius: 50%;\n",
              "      cursor: pointer;\n",
              "      display: none;\n",
              "      fill: #1967D2;\n",
              "      height: 32px;\n",
              "      padding: 0 0 0 0;\n",
              "      width: 32px;\n",
              "    }\n",
              "\n",
              "    .colab-df-convert:hover {\n",
              "      background-color: #E2EBFA;\n",
              "      box-shadow: 0px 1px 2px rgba(60, 64, 67, 0.3), 0px 1px 3px 1px rgba(60, 64, 67, 0.15);\n",
              "      fill: #174EA6;\n",
              "    }\n",
              "\n",
              "    [theme=dark] .colab-df-convert {\n",
              "      background-color: #3B4455;\n",
              "      fill: #D2E3FC;\n",
              "    }\n",
              "\n",
              "    [theme=dark] .colab-df-convert:hover {\n",
              "      background-color: #434B5C;\n",
              "      box-shadow: 0px 1px 3px 1px rgba(0, 0, 0, 0.15);\n",
              "      filter: drop-shadow(0px 1px 2px rgba(0, 0, 0, 0.3));\n",
              "      fill: #FFFFFF;\n",
              "    }\n",
              "  </style>\n",
              "\n",
              "      <script>\n",
              "        const buttonEl =\n",
              "          document.querySelector('#df-637b036b-5e59-471b-bf14-a5c7727acaf3 button.colab-df-convert');\n",
              "        buttonEl.style.display =\n",
              "          google.colab.kernel.accessAllowed ? 'block' : 'none';\n",
              "\n",
              "        async function convertToInteractive(key) {\n",
              "          const element = document.querySelector('#df-637b036b-5e59-471b-bf14-a5c7727acaf3');\n",
              "          const dataTable =\n",
              "            await google.colab.kernel.invokeFunction('convertToInteractive',\n",
              "                                                     [key], {});\n",
              "          if (!dataTable) return;\n",
              "\n",
              "          const docLinkHtml = 'Like what you see? Visit the ' +\n",
              "            '<a target=\"_blank\" href=https://colab.research.google.com/notebooks/data_table.ipynb>data table notebook</a>'\n",
              "            + ' to learn more about interactive tables.';\n",
              "          element.innerHTML = '';\n",
              "          dataTable['output_type'] = 'display_data';\n",
              "          await google.colab.output.renderOutput(dataTable, element);\n",
              "          const docLink = document.createElement('div');\n",
              "          docLink.innerHTML = docLinkHtml;\n",
              "          element.appendChild(docLink);\n",
              "        }\n",
              "      </script>\n",
              "    </div>\n",
              "  </div>\n",
              "  "
            ],
            "text/plain": [
              "  qid           query\n",
              "0  q1        document\n",
              "1  q2  first document"
            ]
          },
          "execution_count": 151,
          "metadata": {},
          "output_type": "execute_result"
        }
      ],
      "source": [
        "queries = pd.DataFrame([[\"q1\", \"document\"], [\"q2\", \"first document\"]], columns=[\"qid\", \"query\"])\n",
        "queries"
      ]
    },
    {
      "cell_type": "markdown",
      "metadata": {
        "id": "EXVgS4vrXssF"
      },
      "source": [
        "Now we can pass this queries data frame into `transform()` to get the results"
      ]
    },
    {
      "cell_type": "code",
      "execution_count": null,
      "metadata": {
        "colab": {
          "base_uri": "https://localhost:8080/",
          "height": 235
        },
        "id": "TPBmPOETBKWk",
        "outputId": "acdcc9ed-f323-4460-805b-04bca66ff138"
      },
      "outputs": [
        {
          "data": {
            "text/html": [
              "\n",
              "  <div id=\"df-2b0dd018-b1de-4057-bad0-5e6d6a15b80a\">\n",
              "    <div class=\"colab-df-container\">\n",
              "      <div>\n",
              "<style scoped>\n",
              "    .dataframe tbody tr th:only-of-type {\n",
              "        vertical-align: middle;\n",
              "    }\n",
              "\n",
              "    .dataframe tbody tr th {\n",
              "        vertical-align: top;\n",
              "    }\n",
              "\n",
              "    .dataframe thead th {\n",
              "        text-align: right;\n",
              "    }\n",
              "</style>\n",
              "<table border=\"1\" class=\"dataframe\">\n",
              "  <thead>\n",
              "    <tr style=\"text-align: right;\">\n",
              "      <th></th>\n",
              "      <th>qid</th>\n",
              "      <th>docid</th>\n",
              "      <th>docno</th>\n",
              "      <th>rank</th>\n",
              "      <th>score</th>\n",
              "      <th>query</th>\n",
              "    </tr>\n",
              "  </thead>\n",
              "  <tbody>\n",
              "    <tr>\n",
              "      <th>0</th>\n",
              "      <td>q1</td>\n",
              "      <td>0</td>\n",
              "      <td>d1</td>\n",
              "      <td>0</td>\n",
              "      <td>2.0</td>\n",
              "      <td>document</td>\n",
              "    </tr>\n",
              "    <tr>\n",
              "      <th>1</th>\n",
              "      <td>q1</td>\n",
              "      <td>1</td>\n",
              "      <td>d2</td>\n",
              "      <td>1</td>\n",
              "      <td>1.0</td>\n",
              "      <td>document</td>\n",
              "    </tr>\n",
              "    <tr>\n",
              "      <th>2</th>\n",
              "      <td>q1</td>\n",
              "      <td>2</td>\n",
              "      <td>d3</td>\n",
              "      <td>2</td>\n",
              "      <td>1.0</td>\n",
              "      <td>document</td>\n",
              "    </tr>\n",
              "    <tr>\n",
              "      <th>3</th>\n",
              "      <td>q2</td>\n",
              "      <td>0</td>\n",
              "      <td>d1</td>\n",
              "      <td>0</td>\n",
              "      <td>3.0</td>\n",
              "      <td>first document</td>\n",
              "    </tr>\n",
              "    <tr>\n",
              "      <th>4</th>\n",
              "      <td>q2</td>\n",
              "      <td>1</td>\n",
              "      <td>d2</td>\n",
              "      <td>1</td>\n",
              "      <td>1.0</td>\n",
              "      <td>first document</td>\n",
              "    </tr>\n",
              "    <tr>\n",
              "      <th>5</th>\n",
              "      <td>q2</td>\n",
              "      <td>2</td>\n",
              "      <td>d3</td>\n",
              "      <td>2</td>\n",
              "      <td>1.0</td>\n",
              "      <td>first document</td>\n",
              "    </tr>\n",
              "  </tbody>\n",
              "</table>\n",
              "</div>\n",
              "      <button class=\"colab-df-convert\" onclick=\"convertToInteractive('df-2b0dd018-b1de-4057-bad0-5e6d6a15b80a')\"\n",
              "              title=\"Convert this dataframe to an interactive table.\"\n",
              "              style=\"display:none;\">\n",
              "        \n",
              "  <svg xmlns=\"http://www.w3.org/2000/svg\" height=\"24px\"viewBox=\"0 0 24 24\"\n",
              "       width=\"24px\">\n",
              "    <path d=\"M0 0h24v24H0V0z\" fill=\"none\"/>\n",
              "    <path d=\"M18.56 5.44l.94 2.06.94-2.06 2.06-.94-2.06-.94-.94-2.06-.94 2.06-2.06.94zm-11 1L8.5 8.5l.94-2.06 2.06-.94-2.06-.94L8.5 2.5l-.94 2.06-2.06.94zm10 10l.94 2.06.94-2.06 2.06-.94-2.06-.94-.94-2.06-.94 2.06-2.06.94z\"/><path d=\"M17.41 7.96l-1.37-1.37c-.4-.4-.92-.59-1.43-.59-.52 0-1.04.2-1.43.59L10.3 9.45l-7.72 7.72c-.78.78-.78 2.05 0 2.83L4 21.41c.39.39.9.59 1.41.59.51 0 1.02-.2 1.41-.59l7.78-7.78 2.81-2.81c.8-.78.8-2.07 0-2.86zM5.41 20L4 18.59l7.72-7.72 1.47 1.35L5.41 20z\"/>\n",
              "  </svg>\n",
              "      </button>\n",
              "      \n",
              "  <style>\n",
              "    .colab-df-container {\n",
              "      display:flex;\n",
              "      flex-wrap:wrap;\n",
              "      gap: 12px;\n",
              "    }\n",
              "\n",
              "    .colab-df-convert {\n",
              "      background-color: #E8F0FE;\n",
              "      border: none;\n",
              "      border-radius: 50%;\n",
              "      cursor: pointer;\n",
              "      display: none;\n",
              "      fill: #1967D2;\n",
              "      height: 32px;\n",
              "      padding: 0 0 0 0;\n",
              "      width: 32px;\n",
              "    }\n",
              "\n",
              "    .colab-df-convert:hover {\n",
              "      background-color: #E2EBFA;\n",
              "      box-shadow: 0px 1px 2px rgba(60, 64, 67, 0.3), 0px 1px 3px 1px rgba(60, 64, 67, 0.15);\n",
              "      fill: #174EA6;\n",
              "    }\n",
              "\n",
              "    [theme=dark] .colab-df-convert {\n",
              "      background-color: #3B4455;\n",
              "      fill: #D2E3FC;\n",
              "    }\n",
              "\n",
              "    [theme=dark] .colab-df-convert:hover {\n",
              "      background-color: #434B5C;\n",
              "      box-shadow: 0px 1px 3px 1px rgba(0, 0, 0, 0.15);\n",
              "      filter: drop-shadow(0px 1px 2px rgba(0, 0, 0, 0.3));\n",
              "      fill: #FFFFFF;\n",
              "    }\n",
              "  </style>\n",
              "\n",
              "      <script>\n",
              "        const buttonEl =\n",
              "          document.querySelector('#df-2b0dd018-b1de-4057-bad0-5e6d6a15b80a button.colab-df-convert');\n",
              "        buttonEl.style.display =\n",
              "          google.colab.kernel.accessAllowed ? 'block' : 'none';\n",
              "\n",
              "        async function convertToInteractive(key) {\n",
              "          const element = document.querySelector('#df-2b0dd018-b1de-4057-bad0-5e6d6a15b80a');\n",
              "          const dataTable =\n",
              "            await google.colab.kernel.invokeFunction('convertToInteractive',\n",
              "                                                     [key], {});\n",
              "          if (!dataTable) return;\n",
              "\n",
              "          const docLinkHtml = 'Like what you see? Visit the ' +\n",
              "            '<a target=\"_blank\" href=https://colab.research.google.com/notebooks/data_table.ipynb>data table notebook</a>'\n",
              "            + ' to learn more about interactive tables.';\n",
              "          element.innerHTML = '';\n",
              "          dataTable['output_type'] = 'display_data';\n",
              "          await google.colab.output.renderOutput(dataTable, element);\n",
              "          const docLink = document.createElement('div');\n",
              "          docLink.innerHTML = docLinkHtml;\n",
              "          element.appendChild(docLink);\n",
              "        }\n",
              "      </script>\n",
              "    </div>\n",
              "  </div>\n",
              "  "
            ],
            "text/plain": [
              "  qid  docid docno  rank  score           query\n",
              "0  q1      0    d1     0    2.0        document\n",
              "1  q1      1    d2     1    1.0        document\n",
              "2  q1      2    d3     2    1.0        document\n",
              "3  q2      0    d1     0    3.0  first document\n",
              "4  q2      1    d2     1    1.0  first document\n",
              "5  q2      2    d3     2    1.0  first document"
            ]
          },
          "execution_count": 152,
          "metadata": {},
          "output_type": "execute_result"
        }
      ],
      "source": [
        "br.transform(queries)"
      ]
    },
    {
      "cell_type": "markdown",
      "metadata": {
        "id": "tcgDzFLBEWAI"
      },
      "source": [
        "Most common operations in PyTerrier have be overloaded so that you can call them using python syntax (called _operator overloading_). We'll discuss this more in Part 2, but for now, know that you can call `br.transform(queries)` using just `br(queries)`. Here. the `()` operator has been overloaded so that it calls `transform()` for us! You will see this usage very frequently in examples and documentation so it's worth noting and remembering the two are equivalent. As an example:"
      ]
    },
    {
      "cell_type": "code",
      "execution_count": null,
      "metadata": {
        "colab": {
          "base_uri": "https://localhost:8080/",
          "height": 235
        },
        "id": "YCwxb3HhEOp_",
        "outputId": "a9568821-506d-47b3-d7fd-24c1057a341b"
      },
      "outputs": [
        {
          "data": {
            "text/html": [
              "\n",
              "  <div id=\"df-90c9c784-b9e6-4c34-aaf6-df2cc8153442\">\n",
              "    <div class=\"colab-df-container\">\n",
              "      <div>\n",
              "<style scoped>\n",
              "    .dataframe tbody tr th:only-of-type {\n",
              "        vertical-align: middle;\n",
              "    }\n",
              "\n",
              "    .dataframe tbody tr th {\n",
              "        vertical-align: top;\n",
              "    }\n",
              "\n",
              "    .dataframe thead th {\n",
              "        text-align: right;\n",
              "    }\n",
              "</style>\n",
              "<table border=\"1\" class=\"dataframe\">\n",
              "  <thead>\n",
              "    <tr style=\"text-align: right;\">\n",
              "      <th></th>\n",
              "      <th>qid</th>\n",
              "      <th>docid</th>\n",
              "      <th>docno</th>\n",
              "      <th>rank</th>\n",
              "      <th>score</th>\n",
              "      <th>query</th>\n",
              "    </tr>\n",
              "  </thead>\n",
              "  <tbody>\n",
              "    <tr>\n",
              "      <th>0</th>\n",
              "      <td>q1</td>\n",
              "      <td>0</td>\n",
              "      <td>d1</td>\n",
              "      <td>0</td>\n",
              "      <td>2.0</td>\n",
              "      <td>document</td>\n",
              "    </tr>\n",
              "    <tr>\n",
              "      <th>1</th>\n",
              "      <td>q1</td>\n",
              "      <td>1</td>\n",
              "      <td>d2</td>\n",
              "      <td>1</td>\n",
              "      <td>1.0</td>\n",
              "      <td>document</td>\n",
              "    </tr>\n",
              "    <tr>\n",
              "      <th>2</th>\n",
              "      <td>q1</td>\n",
              "      <td>2</td>\n",
              "      <td>d3</td>\n",
              "      <td>2</td>\n",
              "      <td>1.0</td>\n",
              "      <td>document</td>\n",
              "    </tr>\n",
              "    <tr>\n",
              "      <th>3</th>\n",
              "      <td>q2</td>\n",
              "      <td>0</td>\n",
              "      <td>d1</td>\n",
              "      <td>0</td>\n",
              "      <td>3.0</td>\n",
              "      <td>first document</td>\n",
              "    </tr>\n",
              "    <tr>\n",
              "      <th>4</th>\n",
              "      <td>q2</td>\n",
              "      <td>1</td>\n",
              "      <td>d2</td>\n",
              "      <td>1</td>\n",
              "      <td>1.0</td>\n",
              "      <td>first document</td>\n",
              "    </tr>\n",
              "    <tr>\n",
              "      <th>5</th>\n",
              "      <td>q2</td>\n",
              "      <td>2</td>\n",
              "      <td>d3</td>\n",
              "      <td>2</td>\n",
              "      <td>1.0</td>\n",
              "      <td>first document</td>\n",
              "    </tr>\n",
              "  </tbody>\n",
              "</table>\n",
              "</div>\n",
              "      <button class=\"colab-df-convert\" onclick=\"convertToInteractive('df-90c9c784-b9e6-4c34-aaf6-df2cc8153442')\"\n",
              "              title=\"Convert this dataframe to an interactive table.\"\n",
              "              style=\"display:none;\">\n",
              "        \n",
              "  <svg xmlns=\"http://www.w3.org/2000/svg\" height=\"24px\"viewBox=\"0 0 24 24\"\n",
              "       width=\"24px\">\n",
              "    <path d=\"M0 0h24v24H0V0z\" fill=\"none\"/>\n",
              "    <path d=\"M18.56 5.44l.94 2.06.94-2.06 2.06-.94-2.06-.94-.94-2.06-.94 2.06-2.06.94zm-11 1L8.5 8.5l.94-2.06 2.06-.94-2.06-.94L8.5 2.5l-.94 2.06-2.06.94zm10 10l.94 2.06.94-2.06 2.06-.94-2.06-.94-.94-2.06-.94 2.06-2.06.94z\"/><path d=\"M17.41 7.96l-1.37-1.37c-.4-.4-.92-.59-1.43-.59-.52 0-1.04.2-1.43.59L10.3 9.45l-7.72 7.72c-.78.78-.78 2.05 0 2.83L4 21.41c.39.39.9.59 1.41.59.51 0 1.02-.2 1.41-.59l7.78-7.78 2.81-2.81c.8-.78.8-2.07 0-2.86zM5.41 20L4 18.59l7.72-7.72 1.47 1.35L5.41 20z\"/>\n",
              "  </svg>\n",
              "      </button>\n",
              "      \n",
              "  <style>\n",
              "    .colab-df-container {\n",
              "      display:flex;\n",
              "      flex-wrap:wrap;\n",
              "      gap: 12px;\n",
              "    }\n",
              "\n",
              "    .colab-df-convert {\n",
              "      background-color: #E8F0FE;\n",
              "      border: none;\n",
              "      border-radius: 50%;\n",
              "      cursor: pointer;\n",
              "      display: none;\n",
              "      fill: #1967D2;\n",
              "      height: 32px;\n",
              "      padding: 0 0 0 0;\n",
              "      width: 32px;\n",
              "    }\n",
              "\n",
              "    .colab-df-convert:hover {\n",
              "      background-color: #E2EBFA;\n",
              "      box-shadow: 0px 1px 2px rgba(60, 64, 67, 0.3), 0px 1px 3px 1px rgba(60, 64, 67, 0.15);\n",
              "      fill: #174EA6;\n",
              "    }\n",
              "\n",
              "    [theme=dark] .colab-df-convert {\n",
              "      background-color: #3B4455;\n",
              "      fill: #D2E3FC;\n",
              "    }\n",
              "\n",
              "    [theme=dark] .colab-df-convert:hover {\n",
              "      background-color: #434B5C;\n",
              "      box-shadow: 0px 1px 3px 1px rgba(0, 0, 0, 0.15);\n",
              "      filter: drop-shadow(0px 1px 2px rgba(0, 0, 0, 0.3));\n",
              "      fill: #FFFFFF;\n",
              "    }\n",
              "  </style>\n",
              "\n",
              "      <script>\n",
              "        const buttonEl =\n",
              "          document.querySelector('#df-90c9c784-b9e6-4c34-aaf6-df2cc8153442 button.colab-df-convert');\n",
              "        buttonEl.style.display =\n",
              "          google.colab.kernel.accessAllowed ? 'block' : 'none';\n",
              "\n",
              "        async function convertToInteractive(key) {\n",
              "          const element = document.querySelector('#df-90c9c784-b9e6-4c34-aaf6-df2cc8153442');\n",
              "          const dataTable =\n",
              "            await google.colab.kernel.invokeFunction('convertToInteractive',\n",
              "                                                     [key], {});\n",
              "          if (!dataTable) return;\n",
              "\n",
              "          const docLinkHtml = 'Like what you see? Visit the ' +\n",
              "            '<a target=\"_blank\" href=https://colab.research.google.com/notebooks/data_table.ipynb>data table notebook</a>'\n",
              "            + ' to learn more about interactive tables.';\n",
              "          element.innerHTML = '';\n",
              "          dataTable['output_type'] = 'display_data';\n",
              "          await google.colab.output.renderOutput(dataTable, element);\n",
              "          const docLink = document.createElement('div');\n",
              "          docLink.innerHTML = docLinkHtml;\n",
              "          element.appendChild(docLink);\n",
              "        }\n",
              "      </script>\n",
              "    </div>\n",
              "  </div>\n",
              "  "
            ],
            "text/plain": [
              "  qid  docid docno  rank  score           query\n",
              "0  q1      0    d1     0    2.0        document\n",
              "1  q1      1    d2     1    1.0        document\n",
              "2  q1      2    d3     2    1.0        document\n",
              "3  q2      0    d1     0    3.0  first document\n",
              "4  q2      1    d2     1    1.0  first document\n",
              "5  q2      2    d3     2    1.0  first document"
            ]
          },
          "execution_count": 153,
          "metadata": {},
          "output_type": "execute_result"
        }
      ],
      "source": [
        "br(queries)"
      ]
    },
    {
      "cell_type": "markdown",
      "metadata": {
        "id": "i6ajWSnFXssI"
      },
      "source": [
        "That gives us the exact same results as our earlier call to `br.transform(queries)`, just like we expect."
      ]
    },
    {
      "cell_type": "markdown",
      "metadata": {
        "id": "ldY8VV8wQ60Z"
      },
      "source": [
        "## Working with real data\n",
        "\n",
        "Let's move on to our full dataset, the NF Corpus (Nutrition Facts), which is easily accessible online. We'll use PyTerrier's `get_dataset()` function to download this corpus automatically and then to index it. This dataset is designed to test IR in a full-text English retrieval setting for Medical Information Retrieval. We'll use this for the initial two groups of tasks and then switch datasets later.\n",
        " \n",
        "### Task 1.1 (5 points):\n",
        "\n",
        "You first task will be to write three lines of code that create the index using an indexer or, if the index was already created, loads the created index from file. "
      ]
    },
    {
      "cell_type": "code",
      "execution_count": 9,
      "metadata": {
        "colab": {
          "base_uri": "https://localhost:8080/"
        },
        "id": "L2lJsK-vEcQx",
        "outputId": "6e8774bc-b3ea-489a-eca9-8c4ff27aee7e"
      },
      "outputs": [
        {
          "name": "stderr",
          "output_type": "stream",
          "text": [
            "nfcorpus/dev documents:   0%|          | 0/5371 [00:00<?, ?it/s]<ipython-input-9-0d7e2e1e5278>:15: DeprecationWarning: specifying meta and meta_lengths in IterDictIndexer.index() is deprecated, use constructor instead\n",
            "  index_ref = indexer.index(nf_dataset.get_corpus_iter(), fields=['url','title','abstract'], meta=['docno'])\n",
            "nfcorpus/dev documents: 100%|██████████| 5371/5371 [00:16<00:00, 327.78it/s]\n"
          ]
        },
        {
          "name": "stdout",
          "output_type": "stream",
          "text": [
            "The time used to nfcorpus_dev\n",
            "20.50929880142212\n"
          ]
        }
      ],
      "source": [
        "import time\n",
        "\n",
        "start = time.time()\n",
        "\n",
        "nf_dataset = pt.datasets.get_dataset('irds:nfcorpus/dev')\n",
        "pt_index_path = './nfcorpus_dev'\n",
        "# for i in nf_dataset.get_corpus_iter():\n",
        "#     print(i)\n",
        "if not os.path.exists(pt_index_path + \"/data.properties\"):\n",
        "    # create the index, using the IterDictIndexer indexer \n",
        "    indexer = pt.IterDictIndexer(pt_index_path)\n",
        "\n",
        "    # we give the dataset get_corpus_iter() directly to the indexer\n",
        "    # while specifying the fields to index and the metadata to record\n",
        "    index_ref = indexer.index(nf_dataset.get_corpus_iter(), fields=['url','title','abstract'], meta=['docno'])\n",
        "\n",
        "else:\n",
        "    # if you already have the index, use it.\n",
        "    index_ref = pt.IndexRef.of(pt_index_path + \"/data.properties\")\n",
        "\n",
        "index = pt.IndexFactory.of(index_ref)\n",
        "\n",
        "\n",
        "print(\"The time used to nfcorpus_dev\")\n",
        "end = time.time()\n",
        "print(end - start)\n",
        "\n",
        "\n"
      ]
    },
    {
      "cell_type": "markdown",
      "metadata": {
        "id": "y7GK9uANRt8w"
      },
      "source": [
        "### Task 1.2 (0 points but useful still)\n",
        "- Print out the statistics of the index"
      ]
    },
    {
      "cell_type": "code",
      "execution_count": null,
      "metadata": {
        "colab": {
          "base_uri": "https://localhost:8080/"
        },
        "id": "bNAVqf9uRr2p",
        "outputId": "88f10a5d-cd97-41bd-c002-4196d41a65d3"
      },
      "outputs": [
        {
          "name": "stdout",
          "output_type": "stream",
          "text": [
            "Number of documents: 5371\n",
            "Number of terms: 18636\n",
            "Number of postings: 545204\n",
            "Number of fields: 3\n",
            "Number of tokens: 897874\n",
            "Field names: [url, title, abstract]\n",
            "Positions:   false\n",
            "\n"
          ]
        }
      ],
      "source": [
        "print(index.getCollectionStatistics().toString())\n",
        "# TODO\n"
      ]
    },
    {
      "cell_type": "markdown",
      "metadata": {
        "id": "tQD9Q8CqSirN"
      },
      "source": [
        "As a curated collection for evaluation, NFCorpus has a corresponding set of queries, referred to as _topics_, and the relevance assessments for each query (i.e., topic), referred to as _qrels_. We use these to evaluation as a *test collection*. PyTerrier allows us to easily access the topics (queries) and qrels from the dataset. Like much of the inputs and outputs, these are expressed as dataframes as well:"
      ]
    },
    {
      "cell_type": "code",
      "execution_count": null,
      "metadata": {
        "colab": {
          "base_uri": "https://localhost:8080/",
          "height": 258
        },
        "id": "8n7oY-YYS_-A",
        "outputId": "643a6fe1-c2d4-4579-e88d-5770f2b4d05b"
      },
      "outputs": [
        {
          "name": "stderr",
          "output_type": "stream",
          "text": [
            "/usr/local/lib/python3.7/dist-packages/pyterrier/datasets.py:435: FutureWarning: In a future version of pandas all arguments of DataFrame.drop except for the argument 'labels' will be keyword-only\n",
            "  df.drop(df.columns.difference(['qid','query']), 1, inplace=True)\n"
          ]
        },
        {
          "data": {
            "text/html": [
              "\n",
              "  <div id=\"df-e4ec7879-1920-446e-925c-6fd7af80534e\">\n",
              "    <div class=\"colab-df-container\">\n",
              "      <div>\n",
              "<style scoped>\n",
              "    .dataframe tbody tr th:only-of-type {\n",
              "        vertical-align: middle;\n",
              "    }\n",
              "\n",
              "    .dataframe tbody tr th {\n",
              "        vertical-align: top;\n",
              "    }\n",
              "\n",
              "    .dataframe thead th {\n",
              "        text-align: right;\n",
              "    }\n",
              "</style>\n",
              "<table border=\"1\" class=\"dataframe\">\n",
              "  <thead>\n",
              "    <tr style=\"text-align: right;\">\n",
              "      <th></th>\n",
              "      <th>qid</th>\n",
              "      <th>query</th>\n",
              "    </tr>\n",
              "  </thead>\n",
              "  <tbody>\n",
              "    <tr>\n",
              "      <th>0</th>\n",
              "      <td>PLAIN-1</td>\n",
              "      <td>why deep fried foods may cause cancer</td>\n",
              "    </tr>\n",
              "    <tr>\n",
              "      <th>1</th>\n",
              "      <td>PLAIN-1007</td>\n",
              "      <td>ddt</td>\n",
              "    </tr>\n",
              "    <tr>\n",
              "      <th>2</th>\n",
              "      <td>PLAIN-101</td>\n",
              "      <td>how to treat multiple sclerosis with diet</td>\n",
              "    </tr>\n",
              "    <tr>\n",
              "      <th>3</th>\n",
              "      <td>PLAIN-1017</td>\n",
              "      <td>detoxification</td>\n",
              "    </tr>\n",
              "    <tr>\n",
              "      <th>4</th>\n",
              "      <td>PLAIN-1027</td>\n",
              "      <td>dietary guidelines</td>\n",
              "    </tr>\n",
              "  </tbody>\n",
              "</table>\n",
              "</div>\n",
              "      <button class=\"colab-df-convert\" onclick=\"convertToInteractive('df-e4ec7879-1920-446e-925c-6fd7af80534e')\"\n",
              "              title=\"Convert this dataframe to an interactive table.\"\n",
              "              style=\"display:none;\">\n",
              "        \n",
              "  <svg xmlns=\"http://www.w3.org/2000/svg\" height=\"24px\"viewBox=\"0 0 24 24\"\n",
              "       width=\"24px\">\n",
              "    <path d=\"M0 0h24v24H0V0z\" fill=\"none\"/>\n",
              "    <path d=\"M18.56 5.44l.94 2.06.94-2.06 2.06-.94-2.06-.94-.94-2.06-.94 2.06-2.06.94zm-11 1L8.5 8.5l.94-2.06 2.06-.94-2.06-.94L8.5 2.5l-.94 2.06-2.06.94zm10 10l.94 2.06.94-2.06 2.06-.94-2.06-.94-.94-2.06-.94 2.06-2.06.94z\"/><path d=\"M17.41 7.96l-1.37-1.37c-.4-.4-.92-.59-1.43-.59-.52 0-1.04.2-1.43.59L10.3 9.45l-7.72 7.72c-.78.78-.78 2.05 0 2.83L4 21.41c.39.39.9.59 1.41.59.51 0 1.02-.2 1.41-.59l7.78-7.78 2.81-2.81c.8-.78.8-2.07 0-2.86zM5.41 20L4 18.59l7.72-7.72 1.47 1.35L5.41 20z\"/>\n",
              "  </svg>\n",
              "      </button>\n",
              "      \n",
              "  <style>\n",
              "    .colab-df-container {\n",
              "      display:flex;\n",
              "      flex-wrap:wrap;\n",
              "      gap: 12px;\n",
              "    }\n",
              "\n",
              "    .colab-df-convert {\n",
              "      background-color: #E8F0FE;\n",
              "      border: none;\n",
              "      border-radius: 50%;\n",
              "      cursor: pointer;\n",
              "      display: none;\n",
              "      fill: #1967D2;\n",
              "      height: 32px;\n",
              "      padding: 0 0 0 0;\n",
              "      width: 32px;\n",
              "    }\n",
              "\n",
              "    .colab-df-convert:hover {\n",
              "      background-color: #E2EBFA;\n",
              "      box-shadow: 0px 1px 2px rgba(60, 64, 67, 0.3), 0px 1px 3px 1px rgba(60, 64, 67, 0.15);\n",
              "      fill: #174EA6;\n",
              "    }\n",
              "\n",
              "    [theme=dark] .colab-df-convert {\n",
              "      background-color: #3B4455;\n",
              "      fill: #D2E3FC;\n",
              "    }\n",
              "\n",
              "    [theme=dark] .colab-df-convert:hover {\n",
              "      background-color: #434B5C;\n",
              "      box-shadow: 0px 1px 3px 1px rgba(0, 0, 0, 0.15);\n",
              "      filter: drop-shadow(0px 1px 2px rgba(0, 0, 0, 0.3));\n",
              "      fill: #FFFFFF;\n",
              "    }\n",
              "  </style>\n",
              "\n",
              "      <script>\n",
              "        const buttonEl =\n",
              "          document.querySelector('#df-e4ec7879-1920-446e-925c-6fd7af80534e button.colab-df-convert');\n",
              "        buttonEl.style.display =\n",
              "          google.colab.kernel.accessAllowed ? 'block' : 'none';\n",
              "\n",
              "        async function convertToInteractive(key) {\n",
              "          const element = document.querySelector('#df-e4ec7879-1920-446e-925c-6fd7af80534e');\n",
              "          const dataTable =\n",
              "            await google.colab.kernel.invokeFunction('convertToInteractive',\n",
              "                                                     [key], {});\n",
              "          if (!dataTable) return;\n",
              "\n",
              "          const docLinkHtml = 'Like what you see? Visit the ' +\n",
              "            '<a target=\"_blank\" href=https://colab.research.google.com/notebooks/data_table.ipynb>data table notebook</a>'\n",
              "            + ' to learn more about interactive tables.';\n",
              "          element.innerHTML = '';\n",
              "          dataTable['output_type'] = 'display_data';\n",
              "          await google.colab.output.renderOutput(dataTable, element);\n",
              "          const docLink = document.createElement('div');\n",
              "          docLink.innerHTML = docLinkHtml;\n",
              "          element.appendChild(docLink);\n",
              "        }\n",
              "      </script>\n",
              "    </div>\n",
              "  </div>\n",
              "  "
            ],
            "text/plain": [
              "          qid                                      query\n",
              "0     PLAIN-1      why deep fried foods may cause cancer\n",
              "1  PLAIN-1007                                        ddt\n",
              "2   PLAIN-101  how to treat multiple sclerosis with diet\n",
              "3  PLAIN-1017                             detoxification\n",
              "4  PLAIN-1027                         dietary guidelines"
            ]
          },
          "execution_count": 156,
          "metadata": {},
          "output_type": "execute_result"
        }
      ],
      "source": [
        "nf_dataset.get_topics(variant='title').head(5)"
      ]
    },
    {
      "cell_type": "code",
      "execution_count": null,
      "metadata": {
        "colab": {
          "base_uri": "https://localhost:8080/",
          "height": 204
        },
        "id": "-rYxqvhJTGNX",
        "outputId": "5c121e8a-fc15-4598-8f41-f22cf7e7a667"
      },
      "outputs": [
        {
          "data": {
            "text/html": [
              "\n",
              "  <div id=\"df-fe5d520a-bed1-48fd-b2e5-57999152e272\">\n",
              "    <div class=\"colab-df-container\">\n",
              "      <div>\n",
              "<style scoped>\n",
              "    .dataframe tbody tr th:only-of-type {\n",
              "        vertical-align: middle;\n",
              "    }\n",
              "\n",
              "    .dataframe tbody tr th {\n",
              "        vertical-align: top;\n",
              "    }\n",
              "\n",
              "    .dataframe thead th {\n",
              "        text-align: right;\n",
              "    }\n",
              "</style>\n",
              "<table border=\"1\" class=\"dataframe\">\n",
              "  <thead>\n",
              "    <tr style=\"text-align: right;\">\n",
              "      <th></th>\n",
              "      <th>qid</th>\n",
              "      <th>docno</th>\n",
              "      <th>label</th>\n",
              "      <th>iteration</th>\n",
              "    </tr>\n",
              "  </thead>\n",
              "  <tbody>\n",
              "    <tr>\n",
              "      <th>0</th>\n",
              "      <td>PLAIN-1</td>\n",
              "      <td>MED-2421</td>\n",
              "      <td>3</td>\n",
              "      <td>0</td>\n",
              "    </tr>\n",
              "    <tr>\n",
              "      <th>1</th>\n",
              "      <td>PLAIN-1</td>\n",
              "      <td>MED-2422</td>\n",
              "      <td>3</td>\n",
              "      <td>0</td>\n",
              "    </tr>\n",
              "    <tr>\n",
              "      <th>2</th>\n",
              "      <td>PLAIN-1</td>\n",
              "      <td>MED-2416</td>\n",
              "      <td>3</td>\n",
              "      <td>0</td>\n",
              "    </tr>\n",
              "    <tr>\n",
              "      <th>3</th>\n",
              "      <td>PLAIN-1</td>\n",
              "      <td>MED-2423</td>\n",
              "      <td>3</td>\n",
              "      <td>0</td>\n",
              "    </tr>\n",
              "    <tr>\n",
              "      <th>4</th>\n",
              "      <td>PLAIN-1</td>\n",
              "      <td>MED-2417</td>\n",
              "      <td>3</td>\n",
              "      <td>0</td>\n",
              "    </tr>\n",
              "  </tbody>\n",
              "</table>\n",
              "</div>\n",
              "      <button class=\"colab-df-convert\" onclick=\"convertToInteractive('df-fe5d520a-bed1-48fd-b2e5-57999152e272')\"\n",
              "              title=\"Convert this dataframe to an interactive table.\"\n",
              "              style=\"display:none;\">\n",
              "        \n",
              "  <svg xmlns=\"http://www.w3.org/2000/svg\" height=\"24px\"viewBox=\"0 0 24 24\"\n",
              "       width=\"24px\">\n",
              "    <path d=\"M0 0h24v24H0V0z\" fill=\"none\"/>\n",
              "    <path d=\"M18.56 5.44l.94 2.06.94-2.06 2.06-.94-2.06-.94-.94-2.06-.94 2.06-2.06.94zm-11 1L8.5 8.5l.94-2.06 2.06-.94-2.06-.94L8.5 2.5l-.94 2.06-2.06.94zm10 10l.94 2.06.94-2.06 2.06-.94-2.06-.94-.94-2.06-.94 2.06-2.06.94z\"/><path d=\"M17.41 7.96l-1.37-1.37c-.4-.4-.92-.59-1.43-.59-.52 0-1.04.2-1.43.59L10.3 9.45l-7.72 7.72c-.78.78-.78 2.05 0 2.83L4 21.41c.39.39.9.59 1.41.59.51 0 1.02-.2 1.41-.59l7.78-7.78 2.81-2.81c.8-.78.8-2.07 0-2.86zM5.41 20L4 18.59l7.72-7.72 1.47 1.35L5.41 20z\"/>\n",
              "  </svg>\n",
              "      </button>\n",
              "      \n",
              "  <style>\n",
              "    .colab-df-container {\n",
              "      display:flex;\n",
              "      flex-wrap:wrap;\n",
              "      gap: 12px;\n",
              "    }\n",
              "\n",
              "    .colab-df-convert {\n",
              "      background-color: #E8F0FE;\n",
              "      border: none;\n",
              "      border-radius: 50%;\n",
              "      cursor: pointer;\n",
              "      display: none;\n",
              "      fill: #1967D2;\n",
              "      height: 32px;\n",
              "      padding: 0 0 0 0;\n",
              "      width: 32px;\n",
              "    }\n",
              "\n",
              "    .colab-df-convert:hover {\n",
              "      background-color: #E2EBFA;\n",
              "      box-shadow: 0px 1px 2px rgba(60, 64, 67, 0.3), 0px 1px 3px 1px rgba(60, 64, 67, 0.15);\n",
              "      fill: #174EA6;\n",
              "    }\n",
              "\n",
              "    [theme=dark] .colab-df-convert {\n",
              "      background-color: #3B4455;\n",
              "      fill: #D2E3FC;\n",
              "    }\n",
              "\n",
              "    [theme=dark] .colab-df-convert:hover {\n",
              "      background-color: #434B5C;\n",
              "      box-shadow: 0px 1px 3px 1px rgba(0, 0, 0, 0.15);\n",
              "      filter: drop-shadow(0px 1px 2px rgba(0, 0, 0, 0.3));\n",
              "      fill: #FFFFFF;\n",
              "    }\n",
              "  </style>\n",
              "\n",
              "      <script>\n",
              "        const buttonEl =\n",
              "          document.querySelector('#df-fe5d520a-bed1-48fd-b2e5-57999152e272 button.colab-df-convert');\n",
              "        buttonEl.style.display =\n",
              "          google.colab.kernel.accessAllowed ? 'block' : 'none';\n",
              "\n",
              "        async function convertToInteractive(key) {\n",
              "          const element = document.querySelector('#df-fe5d520a-bed1-48fd-b2e5-57999152e272');\n",
              "          const dataTable =\n",
              "            await google.colab.kernel.invokeFunction('convertToInteractive',\n",
              "                                                     [key], {});\n",
              "          if (!dataTable) return;\n",
              "\n",
              "          const docLinkHtml = 'Like what you see? Visit the ' +\n",
              "            '<a target=\"_blank\" href=https://colab.research.google.com/notebooks/data_table.ipynb>data table notebook</a>'\n",
              "            + ' to learn more about interactive tables.';\n",
              "          element.innerHTML = '';\n",
              "          dataTable['output_type'] = 'display_data';\n",
              "          await google.colab.output.renderOutput(dataTable, element);\n",
              "          const docLink = document.createElement('div');\n",
              "          docLink.innerHTML = docLinkHtml;\n",
              "          element.appendChild(docLink);\n",
              "        }\n",
              "      </script>\n",
              "    </div>\n",
              "  </div>\n",
              "  "
            ],
            "text/plain": [
              "       qid     docno  label iteration\n",
              "0  PLAIN-1  MED-2421      3         0\n",
              "1  PLAIN-1  MED-2422      3         0\n",
              "2  PLAIN-1  MED-2416      3         0\n",
              "3  PLAIN-1  MED-2423      3         0\n",
              "4  PLAIN-1  MED-2417      3         0"
            ]
          },
          "execution_count": 157,
          "metadata": {},
          "output_type": "execute_result"
        }
      ],
      "source": [
        "nf_dataset.get_qrels().head(5)"
      ]
    },
    {
      "cell_type": "markdown",
      "metadata": {
        "id": "4sBOSaVuXssN"
      },
      "source": [
        "### Task 1.3: Build indices for the same documents with different preprocessing steps (5 points)\n",
        "\n",
        "In homework 1, you tried out different approaches to filtering and tokenizing. What effect might these have in practice on a real index&mdash;and critically, on retrieval performance? PyTerrier supports modifying how an index is preprocessed via its [Indexing Configuration](https://pyterrier.readthedocs.io/en/latest/terrier-indexing.html#indexing-configuration) options. \n",
        "\n",
        "Your task is to build *at least two* different versions of the NFCorpus index using different preprocessing steps. You are free to chose different configurations that might interest you. Once you have finished, print out the statistics below"
      ]
    },
    {
      "cell_type": "code",
      "execution_count": 55,
      "metadata": {
        "colab": {
          "base_uri": "https://localhost:8080/"
        },
        "id": "sq7SNrfhXssN",
        "outputId": "1384f9af-bd95-4b2e-b089-a2345afa617c"
      },
      "outputs": [
        {
          "name": "stderr",
          "output_type": "stream",
          "text": [
            "nfcorpus/dev documents:   0%|          | 0/5371 [00:00<?, ?it/s]<ipython-input-55-4d938c16412a>:7: DeprecationWarning: specifying meta and meta_lengths in IterDictIndexer.index() is deprecated, use constructor instead\n",
            "  index_ref_1 = indexer.index(nf_dataset.get_corpus_iter(), fields=['url','title', 'abstract'], meta=['docno'])\n",
            "nfcorpus/dev documents: 100%|██████████| 5371/5371 [00:06<00:00, 821.77it/s] \n",
            "nfcorpus/dev documents:   0%|          | 0/5371 [00:00<?, ?it/s]<ipython-input-55-4d938c16412a>:21: DeprecationWarning: specifying meta and meta_lengths in IterDictIndexer.index() is deprecated, use constructor instead\n",
            "  index_ref_2 = indexer.index(nf_dataset.get_corpus_iter(), fields=['url','title', 'abstract'], meta=['docno'])\n",
            "nfcorpus/dev documents:   0%|          | 1/5371 [00:00<15:49,  5.66it/s]"
          ]
        },
        {
          "name": "stdout",
          "output_type": "stream",
          "text": [
            "The time used to nfcorpus_dev-1\n",
            "7.540215969085693\n"
          ]
        },
        {
          "name": "stderr",
          "output_type": "stream",
          "text": [
            "nfcorpus/dev documents: 100%|██████████| 5371/5371 [00:05<00:00, 920.34it/s] \n"
          ]
        },
        {
          "name": "stdout",
          "output_type": "stream",
          "text": [
            "The time used to nfcorpus_dev-2\n",
            "7.86912989616394\n",
            "Number of documents: 5371\n",
            "Number of terms: 18737\n",
            "Number of postings: 545660\n",
            "Number of fields: 3\n",
            "Number of tokens: 898648\n",
            "Field names: [url, title, abstract]\n",
            "Positions:   false\n",
            "\n",
            "Number of documents: 5371\n",
            "Number of terms: 26320\n",
            "Number of postings: 754938\n",
            "Number of fields: 3\n",
            "Number of tokens: 1380392\n",
            "Field names: [url, title, abstract]\n",
            "Positions:   false\n",
            "\n"
          ]
        }
      ],
      "source": [
        "start = time.time()\n",
        "\n",
        "if not os.path.exists('./nfcorpus_dev-1' + \"/data.properties\"):\n",
        "    pt_index_path = './nfcorpus_dev-1'\n",
        "    indexer = pt.IterDictIndexer(pt_index_path)\n",
        "    indexer.setProperty('tokeniser', 'UTFTokeniser')\n",
        "    index_ref_1 = indexer.index(nf_dataset.get_corpus_iter(), fields=['url','title', 'abstract'], meta=['docno'])\n",
        "else:\n",
        "    index_ref_1 = pt.IndexRef.of('./nfcorpus_dev-1' + \"/data.properties\")\n",
        "    \n",
        "print(\"The time used to nfcorpus_dev-1\")\n",
        "end = time.time()\n",
        "print(end - start)\n",
        "\n",
        "\n",
        "start = time.time()\n",
        "if not os.path.exists('./nfcorpus_dev-2' + \"/data.properties\"):\n",
        "    pt_index_path = './nfcorpus_dev-2'\n",
        "    indexer = pt.index.IterDictIndexer(pt_index_path)\n",
        "    indexer.setProperty(\"termpipelines\", \"\")\n",
        "    index_ref_2 = indexer.index(nf_dataset.get_corpus_iter(), fields=['url','title', 'abstract'], meta=['docno'])\n",
        "else:\n",
        "    index_ref_2 = pt.IndexRef.of('./nfcorpus_dev-2' + \"/data.properties\")\n",
        "\n",
        "print(\"The time used to nfcorpus_dev-2\")\n",
        "end = time.time()\n",
        "print(end - start)\n",
        "\n",
        "index1 = pt.IndexFactory.of(index_ref_1)\n",
        "index2 = pt.IndexFactory.of(index_ref_2)\n",
        "\n",
        "print(index1.getCollectionStatistics().toString())\n",
        "print(index2.getCollectionStatistics().toString())\n"
      ]
    },
    {
      "cell_type": "markdown",
      "metadata": {
        "id": "tI_GGJNmXssO"
      },
      "source": [
        "### Task 1.4 Write-up your observations on what differs between them (5 points)\n",
        "\n",
        "What effect did the preprocessing have on the index? You should look at the statistics but you can also comment on performance things like file sizes and indexing time. In *at least 4 sentences* describe what differences you see and whether you were surprised by any."
      ]
    },
    {
      "cell_type": "code",
      "execution_count": null,
      "metadata": {
        "id": "_AUGYnouXssP"
      },
      "outputs": [],
      "source": [
        "# Number of terms, postings and tokens are different. We can see that the above values of firse method are all smaller that the value of second method.\n",
        "# However, the second method takes more time than the first one, so the amount of terms do not relevant with consuming time.\n",
        "# The values of time used are 7.540215969085693 and 7.86912989616394.\n",
        "# I do not surprise the different results because it is indexed by different methods.\n",
        "# TODO in your write-up"
      ]
    },
    {
      "cell_type": "markdown",
      "metadata": {
        "id": "2Gop4-jVbIIu"
      },
      "source": [
        "### Weighting Models\n",
        "\n",
        "In the earlier example, we used the simple \"`Tf`\" as our ranking function for document retrieval in BatchRetrieve. However, we can use other models such as `\"TF_IDF\"` by simply changing the `wmodel=\"Tf\"` keyword argument in the constructor of `BatchRetrieve`:"
      ]
    },
    {
      "cell_type": "code",
      "execution_count": null,
      "metadata": {
        "colab": {
          "base_uri": "https://localhost:8080/",
          "height": 419
        },
        "id": "Cg8AGzCibdPG",
        "outputId": "d5fc3265-52c2-49da-cb18-5413c063438d"
      },
      "outputs": [
        {
          "data": {
            "text/html": [
              "\n",
              "  <div id=\"df-f52e7579-e0fb-4a7f-bfbc-541e157ff7df\">\n",
              "    <div class=\"colab-df-container\">\n",
              "      <div>\n",
              "<style scoped>\n",
              "    .dataframe tbody tr th:only-of-type {\n",
              "        vertical-align: middle;\n",
              "    }\n",
              "\n",
              "    .dataframe tbody tr th {\n",
              "        vertical-align: top;\n",
              "    }\n",
              "\n",
              "    .dataframe thead th {\n",
              "        text-align: right;\n",
              "    }\n",
              "</style>\n",
              "<table border=\"1\" class=\"dataframe\">\n",
              "  <thead>\n",
              "    <tr style=\"text-align: right;\">\n",
              "      <th></th>\n",
              "      <th>qid</th>\n",
              "      <th>docid</th>\n",
              "      <th>docno</th>\n",
              "      <th>rank</th>\n",
              "      <th>score</th>\n",
              "      <th>query</th>\n",
              "    </tr>\n",
              "  </thead>\n",
              "  <tbody>\n",
              "    <tr>\n",
              "      <th>0</th>\n",
              "      <td>1</td>\n",
              "      <td>1600</td>\n",
              "      <td>MED-1601</td>\n",
              "      <td>0</td>\n",
              "      <td>6.511907</td>\n",
              "      <td>chemical reactions</td>\n",
              "    </tr>\n",
              "    <tr>\n",
              "      <th>1</th>\n",
              "      <td>1</td>\n",
              "      <td>4523</td>\n",
              "      <td>MED-4524</td>\n",
              "      <td>1</td>\n",
              "      <td>6.435642</td>\n",
              "      <td>chemical reactions</td>\n",
              "    </tr>\n",
              "    <tr>\n",
              "      <th>2</th>\n",
              "      <td>1</td>\n",
              "      <td>440</td>\n",
              "      <td>MED-441</td>\n",
              "      <td>2</td>\n",
              "      <td>6.192737</td>\n",
              "      <td>chemical reactions</td>\n",
              "    </tr>\n",
              "    <tr>\n",
              "      <th>3</th>\n",
              "      <td>1</td>\n",
              "      <td>3267</td>\n",
              "      <td>MED-3268</td>\n",
              "      <td>3</td>\n",
              "      <td>6.192737</td>\n",
              "      <td>chemical reactions</td>\n",
              "    </tr>\n",
              "    <tr>\n",
              "      <th>4</th>\n",
              "      <td>1</td>\n",
              "      <td>3281</td>\n",
              "      <td>MED-3282</td>\n",
              "      <td>4</td>\n",
              "      <td>6.192737</td>\n",
              "      <td>chemical reactions</td>\n",
              "    </tr>\n",
              "    <tr>\n",
              "      <th>...</th>\n",
              "      <td>...</td>\n",
              "      <td>...</td>\n",
              "      <td>...</td>\n",
              "      <td>...</td>\n",
              "      <td>...</td>\n",
              "      <td>...</td>\n",
              "    </tr>\n",
              "    <tr>\n",
              "      <th>429</th>\n",
              "      <td>1</td>\n",
              "      <td>999</td>\n",
              "      <td>MED-1000</td>\n",
              "      <td>429</td>\n",
              "      <td>1.930726</td>\n",
              "      <td>chemical reactions</td>\n",
              "    </tr>\n",
              "    <tr>\n",
              "      <th>430</th>\n",
              "      <td>1</td>\n",
              "      <td>3944</td>\n",
              "      <td>MED-3945</td>\n",
              "      <td>430</td>\n",
              "      <td>1.926907</td>\n",
              "      <td>chemical reactions</td>\n",
              "    </tr>\n",
              "    <tr>\n",
              "      <th>431</th>\n",
              "      <td>1</td>\n",
              "      <td>869</td>\n",
              "      <td>MED-870</td>\n",
              "      <td>431</td>\n",
              "      <td>1.864209</td>\n",
              "      <td>chemical reactions</td>\n",
              "    </tr>\n",
              "    <tr>\n",
              "      <th>432</th>\n",
              "      <td>1</td>\n",
              "      <td>3718</td>\n",
              "      <td>MED-3719</td>\n",
              "      <td>432</td>\n",
              "      <td>1.857100</td>\n",
              "      <td>chemical reactions</td>\n",
              "    </tr>\n",
              "    <tr>\n",
              "      <th>433</th>\n",
              "      <td>1</td>\n",
              "      <td>1845</td>\n",
              "      <td>MED-1846</td>\n",
              "      <td>433</td>\n",
              "      <td>1.846538</td>\n",
              "      <td>chemical reactions</td>\n",
              "    </tr>\n",
              "  </tbody>\n",
              "</table>\n",
              "<p>434 rows × 6 columns</p>\n",
              "</div>\n",
              "      <button class=\"colab-df-convert\" onclick=\"convertToInteractive('df-f52e7579-e0fb-4a7f-bfbc-541e157ff7df')\"\n",
              "              title=\"Convert this dataframe to an interactive table.\"\n",
              "              style=\"display:none;\">\n",
              "        \n",
              "  <svg xmlns=\"http://www.w3.org/2000/svg\" height=\"24px\"viewBox=\"0 0 24 24\"\n",
              "       width=\"24px\">\n",
              "    <path d=\"M0 0h24v24H0V0z\" fill=\"none\"/>\n",
              "    <path d=\"M18.56 5.44l.94 2.06.94-2.06 2.06-.94-2.06-.94-.94-2.06-.94 2.06-2.06.94zm-11 1L8.5 8.5l.94-2.06 2.06-.94-2.06-.94L8.5 2.5l-.94 2.06-2.06.94zm10 10l.94 2.06.94-2.06 2.06-.94-2.06-.94-.94-2.06-.94 2.06-2.06.94z\"/><path d=\"M17.41 7.96l-1.37-1.37c-.4-.4-.92-.59-1.43-.59-.52 0-1.04.2-1.43.59L10.3 9.45l-7.72 7.72c-.78.78-.78 2.05 0 2.83L4 21.41c.39.39.9.59 1.41.59.51 0 1.02-.2 1.41-.59l7.78-7.78 2.81-2.81c.8-.78.8-2.07 0-2.86zM5.41 20L4 18.59l7.72-7.72 1.47 1.35L5.41 20z\"/>\n",
              "  </svg>\n",
              "      </button>\n",
              "      \n",
              "  <style>\n",
              "    .colab-df-container {\n",
              "      display:flex;\n",
              "      flex-wrap:wrap;\n",
              "      gap: 12px;\n",
              "    }\n",
              "\n",
              "    .colab-df-convert {\n",
              "      background-color: #E8F0FE;\n",
              "      border: none;\n",
              "      border-radius: 50%;\n",
              "      cursor: pointer;\n",
              "      display: none;\n",
              "      fill: #1967D2;\n",
              "      height: 32px;\n",
              "      padding: 0 0 0 0;\n",
              "      width: 32px;\n",
              "    }\n",
              "\n",
              "    .colab-df-convert:hover {\n",
              "      background-color: #E2EBFA;\n",
              "      box-shadow: 0px 1px 2px rgba(60, 64, 67, 0.3), 0px 1px 3px 1px rgba(60, 64, 67, 0.15);\n",
              "      fill: #174EA6;\n",
              "    }\n",
              "\n",
              "    [theme=dark] .colab-df-convert {\n",
              "      background-color: #3B4455;\n",
              "      fill: #D2E3FC;\n",
              "    }\n",
              "\n",
              "    [theme=dark] .colab-df-convert:hover {\n",
              "      background-color: #434B5C;\n",
              "      box-shadow: 0px 1px 3px 1px rgba(0, 0, 0, 0.15);\n",
              "      filter: drop-shadow(0px 1px 2px rgba(0, 0, 0, 0.3));\n",
              "      fill: #FFFFFF;\n",
              "    }\n",
              "  </style>\n",
              "\n",
              "      <script>\n",
              "        const buttonEl =\n",
              "          document.querySelector('#df-f52e7579-e0fb-4a7f-bfbc-541e157ff7df button.colab-df-convert');\n",
              "        buttonEl.style.display =\n",
              "          google.colab.kernel.accessAllowed ? 'block' : 'none';\n",
              "\n",
              "        async function convertToInteractive(key) {\n",
              "          const element = document.querySelector('#df-f52e7579-e0fb-4a7f-bfbc-541e157ff7df');\n",
              "          const dataTable =\n",
              "            await google.colab.kernel.invokeFunction('convertToInteractive',\n",
              "                                                     [key], {});\n",
              "          if (!dataTable) return;\n",
              "\n",
              "          const docLinkHtml = 'Like what you see? Visit the ' +\n",
              "            '<a target=\"_blank\" href=https://colab.research.google.com/notebooks/data_table.ipynb>data table notebook</a>'\n",
              "            + ' to learn more about interactive tables.';\n",
              "          element.innerHTML = '';\n",
              "          dataTable['output_type'] = 'display_data';\n",
              "          await google.colab.output.renderOutput(dataTable, element);\n",
              "          const docLink = document.createElement('div');\n",
              "          docLink.innerHTML = docLinkHtml;\n",
              "          element.appendChild(docLink);\n",
              "        }\n",
              "      </script>\n",
              "    </div>\n",
              "  </div>\n",
              "  "
            ],
            "text/plain": [
              "    qid  docid     docno  rank     score               query\n",
              "0     1   1600  MED-1601     0  6.511907  chemical reactions\n",
              "1     1   4523  MED-4524     1  6.435642  chemical reactions\n",
              "2     1    440   MED-441     2  6.192737  chemical reactions\n",
              "3     1   3267  MED-3268     3  6.192737  chemical reactions\n",
              "4     1   3281  MED-3282     4  6.192737  chemical reactions\n",
              "..   ..    ...       ...   ...       ...                 ...\n",
              "429   1    999  MED-1000   429  1.930726  chemical reactions\n",
              "430   1   3944  MED-3945   430  1.926907  chemical reactions\n",
              "431   1    869   MED-870   431  1.864209  chemical reactions\n",
              "432   1   3718  MED-3719   432  1.857100  chemical reactions\n",
              "433   1   1845  MED-1846   433  1.846538  chemical reactions\n",
              "\n",
              "[434 rows x 6 columns]"
            ]
          },
          "execution_count": 159,
          "metadata": {},
          "output_type": "execute_result"
        }
      ],
      "source": [
        "tfidf = pt.BatchRetrieve(index, wmodel=\"TF_IDF\") #weighting model\n",
        "tfidf.search(\"chemical reactions\")\n"
      ]
    },
    {
      "cell_type": "markdown",
      "metadata": {
        "id": "m6aZGX9sbdmc"
      },
      "source": [
        "Note that, as expected, because we switched the ranking, the scores of documents ranked by `TF_IDF` are no longer integers. You can see the exact TF-IDF formula used by Terrier from [the Github repo](https://github.com/terrier-org/terrier-core/blob/5.x/modules/core/src/main/java/org/terrier/matching/models/TF_IDF.java#L79)--sometimes helpful to know since there are multiple ways of defining TF-IDF! Terrier supports many weighting models and the documentation contains [a list of supported models](http://terrier.org/docs/current/javadoc/org/terrier/matching/models/package-summary.html)."
      ]
    },
    {
      "cell_type": "markdown",
      "metadata": {
        "id": "YQ0j9lFfx-gO"
      },
      "source": [
        "## Evaluating and Comparing IR Models\n",
        "\n",
        "How do we know which of the models we've made so far are good IR models? PyTerrier provides a robust and extensive framework to help us automate the evaluation of IR models once wee've defined them.\n",
        "\n",
        "As a first pass, let's take a look at the relevance scores in the dataset. To do this, we'll merge (`join`) the `qrels` with the results of our ranker to produce a dataframe that has both the ranking model's predictions (`\"score\"`) and the actual relevance score (`\"label\"`). "
      ]
    },
    {
      "cell_type": "code",
      "execution_count": null,
      "metadata": {
        "colab": {
          "base_uri": "https://localhost:8080/",
          "height": 473
        },
        "id": "iyShZYpwwNSx",
        "outputId": "d9093a05-29a6-415e-8ae8-adc468dec2c9"
      },
      "outputs": [
        {
          "name": "stderr",
          "output_type": "stream",
          "text": [
            "/usr/local/lib/python3.7/dist-packages/pyterrier/datasets.py:435: FutureWarning: In a future version of pandas all arguments of DataFrame.drop except for the argument 'labels' will be keyword-only\n",
            "  df.drop(df.columns.difference(['qid','query']), 1, inplace=True)\n"
          ]
        },
        {
          "data": {
            "text/html": [
              "\n",
              "  <div id=\"df-578d841a-a76b-4812-9fd2-7881eada8440\">\n",
              "    <div class=\"colab-df-container\">\n",
              "      <div>\n",
              "<style scoped>\n",
              "    .dataframe tbody tr th:only-of-type {\n",
              "        vertical-align: middle;\n",
              "    }\n",
              "\n",
              "    .dataframe tbody tr th {\n",
              "        vertical-align: top;\n",
              "    }\n",
              "\n",
              "    .dataframe thead th {\n",
              "        text-align: right;\n",
              "    }\n",
              "</style>\n",
              "<table border=\"1\" class=\"dataframe\">\n",
              "  <thead>\n",
              "    <tr style=\"text-align: right;\">\n",
              "      <th></th>\n",
              "      <th>qid</th>\n",
              "      <th>docid</th>\n",
              "      <th>docno</th>\n",
              "      <th>rank</th>\n",
              "      <th>score</th>\n",
              "      <th>query</th>\n",
              "      <th>label</th>\n",
              "      <th>iteration</th>\n",
              "    </tr>\n",
              "  </thead>\n",
              "  <tbody>\n",
              "    <tr>\n",
              "      <th>0</th>\n",
              "      <td>PLAIN-1</td>\n",
              "      <td>5</td>\n",
              "      <td>MED-6</td>\n",
              "      <td>0</td>\n",
              "      <td>18.998696</td>\n",
              "      <td>why deep fried foods may cause cancer</td>\n",
              "      <td>0.0</td>\n",
              "      <td>0</td>\n",
              "    </tr>\n",
              "    <tr>\n",
              "      <th>1</th>\n",
              "      <td>PLAIN-1</td>\n",
              "      <td>2417</td>\n",
              "      <td>MED-2418</td>\n",
              "      <td>1</td>\n",
              "      <td>18.998696</td>\n",
              "      <td>why deep fried foods may cause cancer</td>\n",
              "      <td>3.0</td>\n",
              "      <td>0</td>\n",
              "    </tr>\n",
              "    <tr>\n",
              "      <th>2</th>\n",
              "      <td>PLAIN-1</td>\n",
              "      <td>5268</td>\n",
              "      <td>MED-5269</td>\n",
              "      <td>2</td>\n",
              "      <td>13.919450</td>\n",
              "      <td>why deep fried foods may cause cancer</td>\n",
              "      <td>0.0</td>\n",
              "      <td>0</td>\n",
              "    </tr>\n",
              "    <tr>\n",
              "      <th>3</th>\n",
              "      <td>PLAIN-1</td>\n",
              "      <td>2414</td>\n",
              "      <td>MED-2415</td>\n",
              "      <td>3</td>\n",
              "      <td>12.416872</td>\n",
              "      <td>why deep fried foods may cause cancer</td>\n",
              "      <td>0.0</td>\n",
              "      <td>0</td>\n",
              "    </tr>\n",
              "    <tr>\n",
              "      <th>4</th>\n",
              "      <td>PLAIN-1</td>\n",
              "      <td>4063</td>\n",
              "      <td>MED-4064</td>\n",
              "      <td>4</td>\n",
              "      <td>12.416872</td>\n",
              "      <td>why deep fried foods may cause cancer</td>\n",
              "      <td>0.0</td>\n",
              "      <td>0</td>\n",
              "    </tr>\n",
              "    <tr>\n",
              "      <th>...</th>\n",
              "      <td>...</td>\n",
              "      <td>...</td>\n",
              "      <td>...</td>\n",
              "      <td>...</td>\n",
              "      <td>...</td>\n",
              "      <td>...</td>\n",
              "      <td>...</td>\n",
              "      <td>...</td>\n",
              "    </tr>\n",
              "    <tr>\n",
              "      <th>995</th>\n",
              "      <td>PLAIN-1</td>\n",
              "      <td>4704</td>\n",
              "      <td>MED-4705</td>\n",
              "      <td>995</td>\n",
              "      <td>3.141976</td>\n",
              "      <td>why deep fried foods may cause cancer</td>\n",
              "      <td>0.0</td>\n",
              "      <td>0</td>\n",
              "    </tr>\n",
              "    <tr>\n",
              "      <th>996</th>\n",
              "      <td>PLAIN-1</td>\n",
              "      <td>143</td>\n",
              "      <td>MED-144</td>\n",
              "      <td>996</td>\n",
              "      <td>3.138644</td>\n",
              "      <td>why deep fried foods may cause cancer</td>\n",
              "      <td>0.0</td>\n",
              "      <td>0</td>\n",
              "    </tr>\n",
              "    <tr>\n",
              "      <th>997</th>\n",
              "      <td>PLAIN-1</td>\n",
              "      <td>2676</td>\n",
              "      <td>MED-2677</td>\n",
              "      <td>997</td>\n",
              "      <td>3.138644</td>\n",
              "      <td>why deep fried foods may cause cancer</td>\n",
              "      <td>2.0</td>\n",
              "      <td>0</td>\n",
              "    </tr>\n",
              "    <tr>\n",
              "      <th>998</th>\n",
              "      <td>PLAIN-1</td>\n",
              "      <td>5142</td>\n",
              "      <td>MED-5143</td>\n",
              "      <td>998</td>\n",
              "      <td>3.133008</td>\n",
              "      <td>why deep fried foods may cause cancer</td>\n",
              "      <td>0.0</td>\n",
              "      <td>0</td>\n",
              "    </tr>\n",
              "    <tr>\n",
              "      <th>999</th>\n",
              "      <td>PLAIN-1</td>\n",
              "      <td>1073</td>\n",
              "      <td>MED-1074</td>\n",
              "      <td>999</td>\n",
              "      <td>3.131551</td>\n",
              "      <td>why deep fried foods may cause cancer</td>\n",
              "      <td>0.0</td>\n",
              "      <td>0</td>\n",
              "    </tr>\n",
              "  </tbody>\n",
              "</table>\n",
              "<p>1000 rows × 8 columns</p>\n",
              "</div>\n",
              "      <button class=\"colab-df-convert\" onclick=\"convertToInteractive('df-578d841a-a76b-4812-9fd2-7881eada8440')\"\n",
              "              title=\"Convert this dataframe to an interactive table.\"\n",
              "              style=\"display:none;\">\n",
              "        \n",
              "  <svg xmlns=\"http://www.w3.org/2000/svg\" height=\"24px\"viewBox=\"0 0 24 24\"\n",
              "       width=\"24px\">\n",
              "    <path d=\"M0 0h24v24H0V0z\" fill=\"none\"/>\n",
              "    <path d=\"M18.56 5.44l.94 2.06.94-2.06 2.06-.94-2.06-.94-.94-2.06-.94 2.06-2.06.94zm-11 1L8.5 8.5l.94-2.06 2.06-.94-2.06-.94L8.5 2.5l-.94 2.06-2.06.94zm10 10l.94 2.06.94-2.06 2.06-.94-2.06-.94-.94-2.06-.94 2.06-2.06.94z\"/><path d=\"M17.41 7.96l-1.37-1.37c-.4-.4-.92-.59-1.43-.59-.52 0-1.04.2-1.43.59L10.3 9.45l-7.72 7.72c-.78.78-.78 2.05 0 2.83L4 21.41c.39.39.9.59 1.41.59.51 0 1.02-.2 1.41-.59l7.78-7.78 2.81-2.81c.8-.78.8-2.07 0-2.86zM5.41 20L4 18.59l7.72-7.72 1.47 1.35L5.41 20z\"/>\n",
              "  </svg>\n",
              "      </button>\n",
              "      \n",
              "  <style>\n",
              "    .colab-df-container {\n",
              "      display:flex;\n",
              "      flex-wrap:wrap;\n",
              "      gap: 12px;\n",
              "    }\n",
              "\n",
              "    .colab-df-convert {\n",
              "      background-color: #E8F0FE;\n",
              "      border: none;\n",
              "      border-radius: 50%;\n",
              "      cursor: pointer;\n",
              "      display: none;\n",
              "      fill: #1967D2;\n",
              "      height: 32px;\n",
              "      padding: 0 0 0 0;\n",
              "      width: 32px;\n",
              "    }\n",
              "\n",
              "    .colab-df-convert:hover {\n",
              "      background-color: #E2EBFA;\n",
              "      box-shadow: 0px 1px 2px rgba(60, 64, 67, 0.3), 0px 1px 3px 1px rgba(60, 64, 67, 0.15);\n",
              "      fill: #174EA6;\n",
              "    }\n",
              "\n",
              "    [theme=dark] .colab-df-convert {\n",
              "      background-color: #3B4455;\n",
              "      fill: #D2E3FC;\n",
              "    }\n",
              "\n",
              "    [theme=dark] .colab-df-convert:hover {\n",
              "      background-color: #434B5C;\n",
              "      box-shadow: 0px 1px 3px 1px rgba(0, 0, 0, 0.15);\n",
              "      filter: drop-shadow(0px 1px 2px rgba(0, 0, 0, 0.3));\n",
              "      fill: #FFFFFF;\n",
              "    }\n",
              "  </style>\n",
              "\n",
              "      <script>\n",
              "        const buttonEl =\n",
              "          document.querySelector('#df-578d841a-a76b-4812-9fd2-7881eada8440 button.colab-df-convert');\n",
              "        buttonEl.style.display =\n",
              "          google.colab.kernel.accessAllowed ? 'block' : 'none';\n",
              "\n",
              "        async function convertToInteractive(key) {\n",
              "          const element = document.querySelector('#df-578d841a-a76b-4812-9fd2-7881eada8440');\n",
              "          const dataTable =\n",
              "            await google.colab.kernel.invokeFunction('convertToInteractive',\n",
              "                                                     [key], {});\n",
              "          if (!dataTable) return;\n",
              "\n",
              "          const docLinkHtml = 'Like what you see? Visit the ' +\n",
              "            '<a target=\"_blank\" href=https://colab.research.google.com/notebooks/data_table.ipynb>data table notebook</a>'\n",
              "            + ' to learn more about interactive tables.';\n",
              "          element.innerHTML = '';\n",
              "          dataTable['output_type'] = 'display_data';\n",
              "          await google.colab.output.renderOutput(dataTable, element);\n",
              "          const docLink = document.createElement('div');\n",
              "          docLink.innerHTML = docLinkHtml;\n",
              "          element.appendChild(docLink);\n",
              "        }\n",
              "      </script>\n",
              "    </div>\n",
              "  </div>\n",
              "  "
            ],
            "text/plain": [
              "         qid  docid     docno  rank      score  \\\n",
              "0    PLAIN-1      5     MED-6     0  18.998696   \n",
              "1    PLAIN-1   2417  MED-2418     1  18.998696   \n",
              "2    PLAIN-1   5268  MED-5269     2  13.919450   \n",
              "3    PLAIN-1   2414  MED-2415     3  12.416872   \n",
              "4    PLAIN-1   4063  MED-4064     4  12.416872   \n",
              "..       ...    ...       ...   ...        ...   \n",
              "995  PLAIN-1   4704  MED-4705   995   3.141976   \n",
              "996  PLAIN-1    143   MED-144   996   3.138644   \n",
              "997  PLAIN-1   2676  MED-2677   997   3.138644   \n",
              "998  PLAIN-1   5142  MED-5143   998   3.133008   \n",
              "999  PLAIN-1   1073  MED-1074   999   3.131551   \n",
              "\n",
              "                                     query  label iteration  \n",
              "0    why deep fried foods may cause cancer    0.0         0  \n",
              "1    why deep fried foods may cause cancer    3.0         0  \n",
              "2    why deep fried foods may cause cancer    0.0         0  \n",
              "3    why deep fried foods may cause cancer    0.0         0  \n",
              "4    why deep fried foods may cause cancer    0.0         0  \n",
              "..                                     ...    ...       ...  \n",
              "995  why deep fried foods may cause cancer    0.0         0  \n",
              "996  why deep fried foods may cause cancer    0.0         0  \n",
              "997  why deep fried foods may cause cancer    2.0         0  \n",
              "998  why deep fried foods may cause cancer    0.0         0  \n",
              "999  why deep fried foods may cause cancer    0.0         0  \n",
              "\n",
              "[1000 rows x 8 columns]"
            ]
          },
          "execution_count": 160,
          "metadata": {},
          "output_type": "execute_result"
        }
      ],
      "source": [
        "qrels = nf_dataset.get_qrels()\n",
        "def get_res_with_labels(ranker, df):\n",
        "    # get the results for the query or queries\n",
        "    results = ranker( df )\n",
        "    # print(results)\n",
        "\n",
        "    # left outer join with the qrels\n",
        "    with_labels = results.merge(qrels, on=[\"qid\", \"docno\"], how=\"left\").fillna(0)\n",
        "    return with_labels\n",
        "\n",
        "# lets get the Tf results for the first query\n",
        "\n",
        "get_res_with_labels(tfidf, nf_dataset.get_topics(variant='title').head(1))\n",
        "# print(a)"
      ]
    },
    {
      "cell_type": "markdown",
      "metadata": {
        "id": "ByG3a3LqXssS"
      },
      "source": [
        "### Running an Experiment\n",
        "\n",
        "We don't actually need to produce that dataframe to do our evaluation though! PyTerrier lets us run different results with an [Experiment](https://pyterrier.readthedocs.io/en/latest/experiments.html) object, which will compare models according to the evaluation metrics we specify. Here, let's run an experiment to evaluate our `tfidf` model that we created earlier:"
      ]
    },
    {
      "cell_type": "code",
      "execution_count": null,
      "metadata": {
        "colab": {
          "base_uri": "https://localhost:8080/",
          "height": 134
        },
        "id": "OFUmiFSobUDg",
        "outputId": "e63ba316-b5c0-4c65-c361-87e0ffd9c707"
      },
      "outputs": [
        {
          "name": "stderr",
          "output_type": "stream",
          "text": [
            "/usr/local/lib/python3.7/dist-packages/pyterrier/datasets.py:435: FutureWarning: In a future version of pandas all arguments of DataFrame.drop except for the argument 'labels' will be keyword-only\n",
            "  df.drop(df.columns.difference(['qid','query']), 1, inplace=True)\n"
          ]
        },
        {
          "data": {
            "text/html": [
              "\n",
              "  <div id=\"df-b222ed93-39df-47e7-903e-17dfdb249e33\">\n",
              "    <div class=\"colab-df-container\">\n",
              "      <div>\n",
              "<style scoped>\n",
              "    .dataframe tbody tr th:only-of-type {\n",
              "        vertical-align: middle;\n",
              "    }\n",
              "\n",
              "    .dataframe tbody tr th {\n",
              "        vertical-align: top;\n",
              "    }\n",
              "\n",
              "    .dataframe thead th {\n",
              "        text-align: right;\n",
              "    }\n",
              "</style>\n",
              "<table border=\"1\" class=\"dataframe\">\n",
              "  <thead>\n",
              "    <tr style=\"text-align: right;\">\n",
              "      <th></th>\n",
              "      <th>name</th>\n",
              "      <th>map</th>\n",
              "      <th>ndcg</th>\n",
              "    </tr>\n",
              "  </thead>\n",
              "  <tbody>\n",
              "    <tr>\n",
              "      <th>0</th>\n",
              "      <td>BR(TF_IDF)</td>\n",
              "      <td>0.090339</td>\n",
              "      <td>0.230964</td>\n",
              "    </tr>\n",
              "  </tbody>\n",
              "</table>\n",
              "</div>\n",
              "      <button class=\"colab-df-convert\" onclick=\"convertToInteractive('df-b222ed93-39df-47e7-903e-17dfdb249e33')\"\n",
              "              title=\"Convert this dataframe to an interactive table.\"\n",
              "              style=\"display:none;\">\n",
              "        \n",
              "  <svg xmlns=\"http://www.w3.org/2000/svg\" height=\"24px\"viewBox=\"0 0 24 24\"\n",
              "       width=\"24px\">\n",
              "    <path d=\"M0 0h24v24H0V0z\" fill=\"none\"/>\n",
              "    <path d=\"M18.56 5.44l.94 2.06.94-2.06 2.06-.94-2.06-.94-.94-2.06-.94 2.06-2.06.94zm-11 1L8.5 8.5l.94-2.06 2.06-.94-2.06-.94L8.5 2.5l-.94 2.06-2.06.94zm10 10l.94 2.06.94-2.06 2.06-.94-2.06-.94-.94-2.06-.94 2.06-2.06.94z\"/><path d=\"M17.41 7.96l-1.37-1.37c-.4-.4-.92-.59-1.43-.59-.52 0-1.04.2-1.43.59L10.3 9.45l-7.72 7.72c-.78.78-.78 2.05 0 2.83L4 21.41c.39.39.9.59 1.41.59.51 0 1.02-.2 1.41-.59l7.78-7.78 2.81-2.81c.8-.78.8-2.07 0-2.86zM5.41 20L4 18.59l7.72-7.72 1.47 1.35L5.41 20z\"/>\n",
              "  </svg>\n",
              "      </button>\n",
              "      \n",
              "  <style>\n",
              "    .colab-df-container {\n",
              "      display:flex;\n",
              "      flex-wrap:wrap;\n",
              "      gap: 12px;\n",
              "    }\n",
              "\n",
              "    .colab-df-convert {\n",
              "      background-color: #E8F0FE;\n",
              "      border: none;\n",
              "      border-radius: 50%;\n",
              "      cursor: pointer;\n",
              "      display: none;\n",
              "      fill: #1967D2;\n",
              "      height: 32px;\n",
              "      padding: 0 0 0 0;\n",
              "      width: 32px;\n",
              "    }\n",
              "\n",
              "    .colab-df-convert:hover {\n",
              "      background-color: #E2EBFA;\n",
              "      box-shadow: 0px 1px 2px rgba(60, 64, 67, 0.3), 0px 1px 3px 1px rgba(60, 64, 67, 0.15);\n",
              "      fill: #174EA6;\n",
              "    }\n",
              "\n",
              "    [theme=dark] .colab-df-convert {\n",
              "      background-color: #3B4455;\n",
              "      fill: #D2E3FC;\n",
              "    }\n",
              "\n",
              "    [theme=dark] .colab-df-convert:hover {\n",
              "      background-color: #434B5C;\n",
              "      box-shadow: 0px 1px 3px 1px rgba(0, 0, 0, 0.15);\n",
              "      filter: drop-shadow(0px 1px 2px rgba(0, 0, 0, 0.3));\n",
              "      fill: #FFFFFF;\n",
              "    }\n",
              "  </style>\n",
              "\n",
              "      <script>\n",
              "        const buttonEl =\n",
              "          document.querySelector('#df-b222ed93-39df-47e7-903e-17dfdb249e33 button.colab-df-convert');\n",
              "        buttonEl.style.display =\n",
              "          google.colab.kernel.accessAllowed ? 'block' : 'none';\n",
              "\n",
              "        async function convertToInteractive(key) {\n",
              "          const element = document.querySelector('#df-b222ed93-39df-47e7-903e-17dfdb249e33');\n",
              "          const dataTable =\n",
              "            await google.colab.kernel.invokeFunction('convertToInteractive',\n",
              "                                                     [key], {});\n",
              "          if (!dataTable) return;\n",
              "\n",
              "          const docLinkHtml = 'Like what you see? Visit the ' +\n",
              "            '<a target=\"_blank\" href=https://colab.research.google.com/notebooks/data_table.ipynb>data table notebook</a>'\n",
              "            + ' to learn more about interactive tables.';\n",
              "          element.innerHTML = '';\n",
              "          dataTable['output_type'] = 'display_data';\n",
              "          await google.colab.output.renderOutput(dataTable, element);\n",
              "          const docLink = document.createElement('div');\n",
              "          docLink.innerHTML = docLinkHtml;\n",
              "          element.appendChild(docLink);\n",
              "        }\n",
              "      </script>\n",
              "    </div>\n",
              "  </div>\n",
              "  "
            ],
            "text/plain": [
              "         name       map      ndcg\n",
              "0  BR(TF_IDF)  0.090339  0.230964"
            ]
          },
          "execution_count": 161,
          "metadata": {},
          "output_type": "execute_result"
        }
      ],
      "source": [
        "pt.Experiment(\n",
        "    [tfidf],\n",
        "    nf_dataset.get_topics(variant='title'),\n",
        "    nf_dataset.get_qrels(),\n",
        "    eval_metrics=[\"map\", \"ndcg\"])"
      ]
    },
    {
      "cell_type": "markdown",
      "metadata": {
        "id": "Mt0iPhRw2J-S"
      },
      "source": [
        "## Task 2.1: Define new models and evaluate them in an Experiment (5 points)\n",
        "\n",
        "Now comes the fun part! Your task is to define **three** new [`BatchRetrieve`](https://pyterrier.readthedocs.io/en/latest/terrier-retrieval.html#batchretrieve) objects with different word ranking methods. You are welcome to set the hyperparameters but all models should be sufficiently different. You are definitely welcome (encouraged, even!) to compare _more_ than three models too.\n",
        "\n",
        "Once you have defined your three `BatchRetrieve` objects, conduct an `Experiment` using all of them _at once_ (not three separate `Experiment` runs!) to evlauate the results.  Your experiment should include the two metrics used above, as well as NDCG for the top-5 and top-10 results. You are welcome to include other metrics as well\n",
        "\n",
        "Print the results of each Experiment "
      ]
    },
    {
      "cell_type": "code",
      "execution_count": null,
      "metadata": {
        "colab": {
          "base_uri": "https://localhost:8080/",
          "height": 196
        },
        "id": "XadNlXiZXssT",
        "outputId": "9f00e2fc-0f26-4682-c5a2-f222538aefcf"
      },
      "outputs": [
        {
          "name": "stderr",
          "output_type": "stream",
          "text": [
            "/usr/local/lib/python3.7/dist-packages/pyterrier/datasets.py:435: FutureWarning: In a future version of pandas all arguments of DataFrame.drop except for the argument 'labels' will be keyword-only\n",
            "  df.drop(df.columns.difference(['qid','query']), 1, inplace=True)\n"
          ]
        },
        {
          "data": {
            "text/html": [
              "\n",
              "  <div id=\"df-935ef40b-c3d8-4ff6-8940-50e5b3e9a670\">\n",
              "    <div class=\"colab-df-container\">\n",
              "      <div>\n",
              "<style scoped>\n",
              "    .dataframe tbody tr th:only-of-type {\n",
              "        vertical-align: middle;\n",
              "    }\n",
              "\n",
              "    .dataframe tbody tr th {\n",
              "        vertical-align: top;\n",
              "    }\n",
              "\n",
              "    .dataframe thead th {\n",
              "        text-align: right;\n",
              "    }\n",
              "</style>\n",
              "<table border=\"1\" class=\"dataframe\">\n",
              "  <thead>\n",
              "    <tr style=\"text-align: right;\">\n",
              "      <th></th>\n",
              "      <th>name</th>\n",
              "      <th>map</th>\n",
              "      <th>ndcg</th>\n",
              "      <th>recip_rank</th>\n",
              "    </tr>\n",
              "  </thead>\n",
              "  <tbody>\n",
              "    <tr>\n",
              "      <th>0</th>\n",
              "      <td>BR(BM25)</td>\n",
              "      <td>0.090422</td>\n",
              "      <td>0.230461</td>\n",
              "      <td>0.447457</td>\n",
              "    </tr>\n",
              "    <tr>\n",
              "      <th>1</th>\n",
              "      <td>BR(PL2)</td>\n",
              "      <td>0.089128</td>\n",
              "      <td>0.230469</td>\n",
              "      <td>0.447940</td>\n",
              "    </tr>\n",
              "    <tr>\n",
              "      <th>2</th>\n",
              "      <td>BR(ML2)</td>\n",
              "      <td>0.087790</td>\n",
              "      <td>0.228690</td>\n",
              "      <td>0.441394</td>\n",
              "    </tr>\n",
              "  </tbody>\n",
              "</table>\n",
              "</div>\n",
              "      <button class=\"colab-df-convert\" onclick=\"convertToInteractive('df-935ef40b-c3d8-4ff6-8940-50e5b3e9a670')\"\n",
              "              title=\"Convert this dataframe to an interactive table.\"\n",
              "              style=\"display:none;\">\n",
              "        \n",
              "  <svg xmlns=\"http://www.w3.org/2000/svg\" height=\"24px\"viewBox=\"0 0 24 24\"\n",
              "       width=\"24px\">\n",
              "    <path d=\"M0 0h24v24H0V0z\" fill=\"none\"/>\n",
              "    <path d=\"M18.56 5.44l.94 2.06.94-2.06 2.06-.94-2.06-.94-.94-2.06-.94 2.06-2.06.94zm-11 1L8.5 8.5l.94-2.06 2.06-.94-2.06-.94L8.5 2.5l-.94 2.06-2.06.94zm10 10l.94 2.06.94-2.06 2.06-.94-2.06-.94-.94-2.06-.94 2.06-2.06.94z\"/><path d=\"M17.41 7.96l-1.37-1.37c-.4-.4-.92-.59-1.43-.59-.52 0-1.04.2-1.43.59L10.3 9.45l-7.72 7.72c-.78.78-.78 2.05 0 2.83L4 21.41c.39.39.9.59 1.41.59.51 0 1.02-.2 1.41-.59l7.78-7.78 2.81-2.81c.8-.78.8-2.07 0-2.86zM5.41 20L4 18.59l7.72-7.72 1.47 1.35L5.41 20z\"/>\n",
              "  </svg>\n",
              "      </button>\n",
              "      \n",
              "  <style>\n",
              "    .colab-df-container {\n",
              "      display:flex;\n",
              "      flex-wrap:wrap;\n",
              "      gap: 12px;\n",
              "    }\n",
              "\n",
              "    .colab-df-convert {\n",
              "      background-color: #E8F0FE;\n",
              "      border: none;\n",
              "      border-radius: 50%;\n",
              "      cursor: pointer;\n",
              "      display: none;\n",
              "      fill: #1967D2;\n",
              "      height: 32px;\n",
              "      padding: 0 0 0 0;\n",
              "      width: 32px;\n",
              "    }\n",
              "\n",
              "    .colab-df-convert:hover {\n",
              "      background-color: #E2EBFA;\n",
              "      box-shadow: 0px 1px 2px rgba(60, 64, 67, 0.3), 0px 1px 3px 1px rgba(60, 64, 67, 0.15);\n",
              "      fill: #174EA6;\n",
              "    }\n",
              "\n",
              "    [theme=dark] .colab-df-convert {\n",
              "      background-color: #3B4455;\n",
              "      fill: #D2E3FC;\n",
              "    }\n",
              "\n",
              "    [theme=dark] .colab-df-convert:hover {\n",
              "      background-color: #434B5C;\n",
              "      box-shadow: 0px 1px 3px 1px rgba(0, 0, 0, 0.15);\n",
              "      filter: drop-shadow(0px 1px 2px rgba(0, 0, 0, 0.3));\n",
              "      fill: #FFFFFF;\n",
              "    }\n",
              "  </style>\n",
              "\n",
              "      <script>\n",
              "        const buttonEl =\n",
              "          document.querySelector('#df-935ef40b-c3d8-4ff6-8940-50e5b3e9a670 button.colab-df-convert');\n",
              "        buttonEl.style.display =\n",
              "          google.colab.kernel.accessAllowed ? 'block' : 'none';\n",
              "\n",
              "        async function convertToInteractive(key) {\n",
              "          const element = document.querySelector('#df-935ef40b-c3d8-4ff6-8940-50e5b3e9a670');\n",
              "          const dataTable =\n",
              "            await google.colab.kernel.invokeFunction('convertToInteractive',\n",
              "                                                     [key], {});\n",
              "          if (!dataTable) return;\n",
              "\n",
              "          const docLinkHtml = 'Like what you see? Visit the ' +\n",
              "            '<a target=\"_blank\" href=https://colab.research.google.com/notebooks/data_table.ipynb>data table notebook</a>'\n",
              "            + ' to learn more about interactive tables.';\n",
              "          element.innerHTML = '';\n",
              "          dataTable['output_type'] = 'display_data';\n",
              "          await google.colab.output.renderOutput(dataTable, element);\n",
              "          const docLink = document.createElement('div');\n",
              "          docLink.innerHTML = docLinkHtml;\n",
              "          element.appendChild(docLink);\n",
              "        }\n",
              "      </script>\n",
              "    </div>\n",
              "  </div>\n",
              "  "
            ],
            "text/plain": [
              "       name       map      ndcg  recip_rank\n",
              "0  BR(BM25)  0.090422  0.230461    0.447457\n",
              "1   BR(PL2)  0.089128  0.230469    0.447940\n",
              "2   BR(ML2)  0.087790  0.228690    0.441394"
            ]
          },
          "execution_count": 162,
          "metadata": {},
          "output_type": "execute_result"
        }
      ],
      "source": [
        "bm25 = pt.BatchRetrieve(index, wmodel=\"BM25\")\n",
        "pl2 = pt.BatchRetrieve(index, wmodel=\"PL2\")\n",
        "ml2 = pt.BatchRetrieve(index, wmodel=\"ML2\")\n",
        "\n",
        "pt.Experiment(\n",
        "    [bm25, pl2, ml2],\n",
        "    nf_dataset.get_topics(variant='title'),\n",
        "    nf_dataset.get_qrels(),\n",
        "    eval_metrics=[\"map\", \"ndcg\", 'recip_rank'])\n",
        "\n",
        "# TODO: Compare existing models\n"
      ]
    },
    {
      "cell_type": "markdown",
      "metadata": {
        "id": "JDwlMPWfXssU"
      },
      "source": [
        "### Task 2.2 Describe the results of your experiments (5 points)\n",
        "\n",
        "Write 2-3 sentences (or more) about what you see in the performance. Is there a clear better model? Would you expect better performance with some hyperparameter tuning?"
      ]
    },
    {
      "cell_type": "code",
      "execution_count": null,
      "metadata": {
        "id": "yGuCDDDNXssU"
      },
      "outputs": [],
      "source": [
        "# The estimations by three methods in different weighting model are not significant different.\n",
        "# However, it shows that the ML2 weighting model has the less value in all estimation methods.\n",
        "# In ndcg and recip_rank estimation methods, the PL2 has the better performance than BM25, and it is opposite in map method.\n",
        "\n",
        "# TODO in separate document"
      ]
    },
    {
      "cell_type": "markdown",
      "metadata": {
        "id": "H3AExF87XssV"
      },
      "source": [
        "## Implementing Custom weighting\n",
        "\n",
        "PyTerrier allows you to [write your own weighting functions](\n",
        "https://pyterrier.readthedocs.io/en/latest/terrier-retrieval.html#custom-weighting-models). In this part of the assignment, we'll use this functionality to re-implement two standard weighting functions: BM25 and Pivoted Normalization. You likely will have used the built in versions of at least one of these above! The goals of having you re-implement these functions are (1) to understand how the index's data structures can be used to score document relevance efficiently and (2) to get you a better sense of how the equations we discussed in class map on to code. \n",
        "\n",
        "You are welcome to check whether your code is correct by comparing your results/weighting with PyTerrier's implementation's outputs. However, note that they may be using different hyperparameters, which could give slightly different results. This doesn't mean your code is incorrect though!\n",
        "\n",
        "### Task 3.1 Implement BM25 (10 points)\n",
        "\n",
        "Re-implement BM25 using the parameters $k_1$ = 1.2, $b$=0.75, $k_3$=8 (this is what PyTerrier also uses). "
      ]
    },
    {
      "cell_type": "code",
      "execution_count": null,
      "metadata": {
        "colab": {
          "base_uri": "https://localhost:8080/",
          "height": 134
        },
        "id": "mRjyEZ5_aTvM",
        "outputId": "9906c90c-d4e5-4ea0-ee70-09f39ed1f581"
      },
      "outputs": [
        {
          "name": "stderr",
          "output_type": "stream",
          "text": [
            "/usr/local/lib/python3.7/dist-packages/pyterrier/datasets.py:435: FutureWarning: In a future version of pandas all arguments of DataFrame.drop except for the argument 'labels' will be keyword-only\n",
            "  df.drop(df.columns.difference(['qid','query']), 1, inplace=True)\n"
          ]
        },
        {
          "data": {
            "text/html": [
              "\n",
              "  <div id=\"df-d51b72bc-1999-40ec-a01c-f4cc95c8b75c\">\n",
              "    <div class=\"colab-df-container\">\n",
              "      <div>\n",
              "<style scoped>\n",
              "    .dataframe tbody tr th:only-of-type {\n",
              "        vertical-align: middle;\n",
              "    }\n",
              "\n",
              "    .dataframe tbody tr th {\n",
              "        vertical-align: top;\n",
              "    }\n",
              "\n",
              "    .dataframe thead th {\n",
              "        text-align: right;\n",
              "    }\n",
              "</style>\n",
              "<table border=\"1\" class=\"dataframe\">\n",
              "  <thead>\n",
              "    <tr style=\"text-align: right;\">\n",
              "      <th></th>\n",
              "      <th>name</th>\n",
              "      <th>map</th>\n",
              "      <th>ndcg</th>\n",
              "      <th>recip_rank</th>\n",
              "    </tr>\n",
              "  </thead>\n",
              "  <tbody>\n",
              "    <tr>\n",
              "      <th>0</th>\n",
              "      <td>bm25_implement</td>\n",
              "      <td>0.090422</td>\n",
              "      <td>0.230461</td>\n",
              "      <td>0.447457</td>\n",
              "    </tr>\n",
              "  </tbody>\n",
              "</table>\n",
              "</div>\n",
              "      <button class=\"colab-df-convert\" onclick=\"convertToInteractive('df-d51b72bc-1999-40ec-a01c-f4cc95c8b75c')\"\n",
              "              title=\"Convert this dataframe to an interactive table.\"\n",
              "              style=\"display:none;\">\n",
              "        \n",
              "  <svg xmlns=\"http://www.w3.org/2000/svg\" height=\"24px\"viewBox=\"0 0 24 24\"\n",
              "       width=\"24px\">\n",
              "    <path d=\"M0 0h24v24H0V0z\" fill=\"none\"/>\n",
              "    <path d=\"M18.56 5.44l.94 2.06.94-2.06 2.06-.94-2.06-.94-.94-2.06-.94 2.06-2.06.94zm-11 1L8.5 8.5l.94-2.06 2.06-.94-2.06-.94L8.5 2.5l-.94 2.06-2.06.94zm10 10l.94 2.06.94-2.06 2.06-.94-2.06-.94-.94-2.06-.94 2.06-2.06.94z\"/><path d=\"M17.41 7.96l-1.37-1.37c-.4-.4-.92-.59-1.43-.59-.52 0-1.04.2-1.43.59L10.3 9.45l-7.72 7.72c-.78.78-.78 2.05 0 2.83L4 21.41c.39.39.9.59 1.41.59.51 0 1.02-.2 1.41-.59l7.78-7.78 2.81-2.81c.8-.78.8-2.07 0-2.86zM5.41 20L4 18.59l7.72-7.72 1.47 1.35L5.41 20z\"/>\n",
              "  </svg>\n",
              "      </button>\n",
              "      \n",
              "  <style>\n",
              "    .colab-df-container {\n",
              "      display:flex;\n",
              "      flex-wrap:wrap;\n",
              "      gap: 12px;\n",
              "    }\n",
              "\n",
              "    .colab-df-convert {\n",
              "      background-color: #E8F0FE;\n",
              "      border: none;\n",
              "      border-radius: 50%;\n",
              "      cursor: pointer;\n",
              "      display: none;\n",
              "      fill: #1967D2;\n",
              "      height: 32px;\n",
              "      padding: 0 0 0 0;\n",
              "      width: 32px;\n",
              "    }\n",
              "\n",
              "    .colab-df-convert:hover {\n",
              "      background-color: #E2EBFA;\n",
              "      box-shadow: 0px 1px 2px rgba(60, 64, 67, 0.3), 0px 1px 3px 1px rgba(60, 64, 67, 0.15);\n",
              "      fill: #174EA6;\n",
              "    }\n",
              "\n",
              "    [theme=dark] .colab-df-convert {\n",
              "      background-color: #3B4455;\n",
              "      fill: #D2E3FC;\n",
              "    }\n",
              "\n",
              "    [theme=dark] .colab-df-convert:hover {\n",
              "      background-color: #434B5C;\n",
              "      box-shadow: 0px 1px 3px 1px rgba(0, 0, 0, 0.15);\n",
              "      filter: drop-shadow(0px 1px 2px rgba(0, 0, 0, 0.3));\n",
              "      fill: #FFFFFF;\n",
              "    }\n",
              "  </style>\n",
              "\n",
              "      <script>\n",
              "        const buttonEl =\n",
              "          document.querySelector('#df-d51b72bc-1999-40ec-a01c-f4cc95c8b75c button.colab-df-convert');\n",
              "        buttonEl.style.display =\n",
              "          google.colab.kernel.accessAllowed ? 'block' : 'none';\n",
              "\n",
              "        async function convertToInteractive(key) {\n",
              "          const element = document.querySelector('#df-d51b72bc-1999-40ec-a01c-f4cc95c8b75c');\n",
              "          const dataTable =\n",
              "            await google.colab.kernel.invokeFunction('convertToInteractive',\n",
              "                                                     [key], {});\n",
              "          if (!dataTable) return;\n",
              "\n",
              "          const docLinkHtml = 'Like what you see? Visit the ' +\n",
              "            '<a target=\"_blank\" href=https://colab.research.google.com/notebooks/data_table.ipynb>data table notebook</a>'\n",
              "            + ' to learn more about interactive tables.';\n",
              "          element.innerHTML = '';\n",
              "          dataTable['output_type'] = 'display_data';\n",
              "          await google.colab.output.renderOutput(dataTable, element);\n",
              "          const docLink = document.createElement('div');\n",
              "          docLink.innerHTML = docLinkHtml;\n",
              "          element.appendChild(docLink);\n",
              "        }\n",
              "      </script>\n",
              "    </div>\n",
              "  </div>\n",
              "  "
            ],
            "text/plain": [
              "             name       map      ndcg  recip_rank\n",
              "0  bm25_implement  0.090422  0.230461    0.447457"
            ]
          },
          "execution_count": 30,
          "metadata": {},
          "output_type": "execute_result"
        }
      ],
      "source": [
        "import math\n",
        "from tkinter.font import names\n",
        "from xml.dom import NamespaceErr\n",
        "\n",
        "def bm25_weighting(keyFreq, posting, entryStats, collStats):\n",
        "    num_doc = collStats.numberOfDocuments\n",
        "    num_token = collStats.numberOfTokens\n",
        "    avdl = num_token/num_doc\n",
        "\n",
        "    doc_len = posting.getDocumentLength()\n",
        "    num_terms_in_doc = posting.getFrequency()\n",
        "    df_t = entryStats.getDocumentFrequency()\n",
        "\n",
        "\n",
        "    idf = math.log((num_doc-df_t+0.5)/(df_t+0.5))\n",
        "    tf_de = k1*(1-b+b*doc_len/avdl) + num_terms_in_doc\n",
        "    tf = (k1+1)*num_terms_in_doc/tf_de\n",
        "    qtf = (k3+1)*keyFreq/(k3+keyFreq)\n",
        "\n",
        "    score = idf*tf*qtf\n",
        "    return score\n",
        "\n",
        "    '''\n",
        "    Computes the Okapi BM25 score of this document for a given query\n",
        "    \n",
        "    :param keyFrequency(float): the weight of the term in the query, usually 1 except during PRF.\n",
        "    :param posting(Posting): access to the information about the occurrence of the term in the current document (frequency, document length etc).\n",
        "    :param entryStats(EntryStatistics): access to the information about the occurrence of the term in the whole index (document frequency, etc.).\n",
        "    :param collStats(CollectionStatistics): access to the information about the index as a whole (number of documents, etc).\n",
        "    :return: the Okapi BM25 score of this document for the given query\n",
        "    '''\n",
        "b = 0.75; k1 = 1.2; k3 = 8\n",
        "bm25_implement = pt.BatchRetrieve(index, wmodel=bm25_weighting)\n",
        "\n",
        "pt.Experiment(\n",
        "    [bm25_implement],\n",
        "    nf_dataset.get_topics(variant='title'),\n",
        "    nf_dataset.get_qrels(),\n",
        "    eval_metrics=[\"map\", \"ndcg\", 'recip_rank'],\n",
        "    names = ['bm25_implement'])\n",
        "\n"
      ]
    },
    {
      "cell_type": "markdown",
      "metadata": {
        "id": "GJiHLKDGXssW"
      },
      "source": [
        "### Task 3.2 Implement Pivoted Normalization (10 points)\n",
        "\n",
        "Re-implement Pivoted Normalization using the parameters $b$ = 0.2."
      ]
    },
    {
      "cell_type": "code",
      "execution_count": null,
      "metadata": {
        "colab": {
          "base_uri": "https://localhost:8080/",
          "height": 134
        },
        "id": "ICnu_2XMXssX",
        "outputId": "07a018ab-b387-42e7-852c-09aff8aa4add"
      },
      "outputs": [
        {
          "name": "stderr",
          "output_type": "stream",
          "text": [
            "/usr/local/lib/python3.7/dist-packages/pyterrier/datasets.py:435: FutureWarning: In a future version of pandas all arguments of DataFrame.drop except for the argument 'labels' will be keyword-only\n",
            "  df.drop(df.columns.difference(['qid','query']), 1, inplace=True)\n"
          ]
        },
        {
          "data": {
            "text/html": [
              "\n",
              "  <div id=\"df-3910eaba-83ed-4698-9531-c0233cec65a3\">\n",
              "    <div class=\"colab-df-container\">\n",
              "      <div>\n",
              "<style scoped>\n",
              "    .dataframe tbody tr th:only-of-type {\n",
              "        vertical-align: middle;\n",
              "    }\n",
              "\n",
              "    .dataframe tbody tr th {\n",
              "        vertical-align: top;\n",
              "    }\n",
              "\n",
              "    .dataframe thead th {\n",
              "        text-align: right;\n",
              "    }\n",
              "</style>\n",
              "<table border=\"1\" class=\"dataframe\">\n",
              "  <thead>\n",
              "    <tr style=\"text-align: right;\">\n",
              "      <th></th>\n",
              "      <th>name</th>\n",
              "      <th>map</th>\n",
              "      <th>ndcg</th>\n",
              "      <th>recip_rank</th>\n",
              "    </tr>\n",
              "  </thead>\n",
              "  <tbody>\n",
              "    <tr>\n",
              "      <th>0</th>\n",
              "      <td>pn_implement</td>\n",
              "      <td>0.090566</td>\n",
              "      <td>0.231453</td>\n",
              "      <td>0.444392</td>\n",
              "    </tr>\n",
              "  </tbody>\n",
              "</table>\n",
              "</div>\n",
              "      <button class=\"colab-df-convert\" onclick=\"convertToInteractive('df-3910eaba-83ed-4698-9531-c0233cec65a3')\"\n",
              "              title=\"Convert this dataframe to an interactive table.\"\n",
              "              style=\"display:none;\">\n",
              "        \n",
              "  <svg xmlns=\"http://www.w3.org/2000/svg\" height=\"24px\"viewBox=\"0 0 24 24\"\n",
              "       width=\"24px\">\n",
              "    <path d=\"M0 0h24v24H0V0z\" fill=\"none\"/>\n",
              "    <path d=\"M18.56 5.44l.94 2.06.94-2.06 2.06-.94-2.06-.94-.94-2.06-.94 2.06-2.06.94zm-11 1L8.5 8.5l.94-2.06 2.06-.94-2.06-.94L8.5 2.5l-.94 2.06-2.06.94zm10 10l.94 2.06.94-2.06 2.06-.94-2.06-.94-.94-2.06-.94 2.06-2.06.94z\"/><path d=\"M17.41 7.96l-1.37-1.37c-.4-.4-.92-.59-1.43-.59-.52 0-1.04.2-1.43.59L10.3 9.45l-7.72 7.72c-.78.78-.78 2.05 0 2.83L4 21.41c.39.39.9.59 1.41.59.51 0 1.02-.2 1.41-.59l7.78-7.78 2.81-2.81c.8-.78.8-2.07 0-2.86zM5.41 20L4 18.59l7.72-7.72 1.47 1.35L5.41 20z\"/>\n",
              "  </svg>\n",
              "      </button>\n",
              "      \n",
              "  <style>\n",
              "    .colab-df-container {\n",
              "      display:flex;\n",
              "      flex-wrap:wrap;\n",
              "      gap: 12px;\n",
              "    }\n",
              "\n",
              "    .colab-df-convert {\n",
              "      background-color: #E8F0FE;\n",
              "      border: none;\n",
              "      border-radius: 50%;\n",
              "      cursor: pointer;\n",
              "      display: none;\n",
              "      fill: #1967D2;\n",
              "      height: 32px;\n",
              "      padding: 0 0 0 0;\n",
              "      width: 32px;\n",
              "    }\n",
              "\n",
              "    .colab-df-convert:hover {\n",
              "      background-color: #E2EBFA;\n",
              "      box-shadow: 0px 1px 2px rgba(60, 64, 67, 0.3), 0px 1px 3px 1px rgba(60, 64, 67, 0.15);\n",
              "      fill: #174EA6;\n",
              "    }\n",
              "\n",
              "    [theme=dark] .colab-df-convert {\n",
              "      background-color: #3B4455;\n",
              "      fill: #D2E3FC;\n",
              "    }\n",
              "\n",
              "    [theme=dark] .colab-df-convert:hover {\n",
              "      background-color: #434B5C;\n",
              "      box-shadow: 0px 1px 3px 1px rgba(0, 0, 0, 0.15);\n",
              "      filter: drop-shadow(0px 1px 2px rgba(0, 0, 0, 0.3));\n",
              "      fill: #FFFFFF;\n",
              "    }\n",
              "  </style>\n",
              "\n",
              "      <script>\n",
              "        const buttonEl =\n",
              "          document.querySelector('#df-3910eaba-83ed-4698-9531-c0233cec65a3 button.colab-df-convert');\n",
              "        buttonEl.style.display =\n",
              "          google.colab.kernel.accessAllowed ? 'block' : 'none';\n",
              "\n",
              "        async function convertToInteractive(key) {\n",
              "          const element = document.querySelector('#df-3910eaba-83ed-4698-9531-c0233cec65a3');\n",
              "          const dataTable =\n",
              "            await google.colab.kernel.invokeFunction('convertToInteractive',\n",
              "                                                     [key], {});\n",
              "          if (!dataTable) return;\n",
              "\n",
              "          const docLinkHtml = 'Like what you see? Visit the ' +\n",
              "            '<a target=\"_blank\" href=https://colab.research.google.com/notebooks/data_table.ipynb>data table notebook</a>'\n",
              "            + ' to learn more about interactive tables.';\n",
              "          element.innerHTML = '';\n",
              "          dataTable['output_type'] = 'display_data';\n",
              "          await google.colab.output.renderOutput(dataTable, element);\n",
              "          const docLink = document.createElement('div');\n",
              "          docLink.innerHTML = docLinkHtml;\n",
              "          element.appendChild(docLink);\n",
              "        }\n",
              "      </script>\n",
              "    </div>\n",
              "  </div>\n",
              "  "
            ],
            "text/plain": [
              "           name       map      ndcg  recip_rank\n",
              "0  pn_implement  0.090566  0.231453    0.444392"
            ]
          },
          "execution_count": 33,
          "metadata": {},
          "output_type": "execute_result"
        }
      ],
      "source": [
        "\n",
        "def pivoted_normalization_weighting(keyFreq, posting, entryStats, collStats):\n",
        "    num_doc = collStats.numberOfDocuments\n",
        "    num_token = collStats.numberOfTokens\n",
        "    avdl = num_token/num_doc\n",
        "\n",
        "    doc_len = posting.getDocumentLength()\n",
        "    num_terms_in_doc = posting.getFrequency()\n",
        "    df_t = entryStats.getDocumentFrequency()\n",
        "\n",
        "    qtf = keyFreq\n",
        "    tf_no = 1 + math.log(1 + math.log(num_terms_in_doc))\n",
        "    tf = tf_no/(1-b1+b1*doc_len/avdl)\n",
        "    idf = math.log((num_doc+1)/df_t)\n",
        "\n",
        "    score = idf*tf*qtf\n",
        "    return score\n",
        "\n",
        "    '''\n",
        "    Computes the Pivoted Normalization score of this document for a given query\n",
        "    \n",
        "    :param keyFrequency(float): the weight of the term in the query, usually 1 except during PRF.\n",
        "    :param posting(Posting): access to the information about the occurrence of the term in the current document (frequency, document length etc).\n",
        "    :param entryStats(EntryStatistics): access to the information about the occurrence of the term in the whole index (document frequency, etc.).\n",
        "    :param collStats(CollectionStatistics): access to the information about the index as a whole (number of documents, etc).\n",
        "    :return: the Pivoted Normalization score of this document for the given query\n",
        "    '''\n",
        "b1 = 0.2\n",
        "pn_implement = pt.BatchRetrieve(index, wmodel=pivoted_normalization_weighting)\n",
        "\n",
        "pt.Experiment(\n",
        "    [pn_implement],\n",
        "    nf_dataset.get_topics(variant='title'),\n",
        "    nf_dataset.get_qrels(),\n",
        "    eval_metrics=[\"map\", \"ndcg\", 'recip_rank'],\n",
        "    names = ['pn_implement'])\n",
        "\n",
        "\n",
        "\n"
      ]
    },
    {
      "cell_type": "markdown",
      "metadata": {
        "id": "uzxqcUDVXssY"
      },
      "source": [
        "### Task 3.3 Score your implementations in an Experiment on the evaluation data of each index for all datasets (5 points)\n",
        "\n",
        "Now the time has come to see how well the implementations work! Create a new series of experiments to test how well these functions work on _each_ index you created above. Each index will (likely) have a different set of terms and frequencies, some of which might be better for helping find the most relevant document.\n",
        "\n",
        "Report "
      ]
    },
    {
      "cell_type": "code",
      "execution_count": null,
      "metadata": {
        "colab": {
          "base_uri": "https://localhost:8080/"
        },
        "id": "fixA2gduXssY",
        "outputId": "fe8198fa-8cc1-4d55-8126-e5f7f7460ce1"
      },
      "outputs": [
        {
          "name": "stderr",
          "output_type": "stream",
          "text": [
            "/usr/local/lib/python3.7/dist-packages/pyterrier/datasets.py:435: FutureWarning: In a future version of pandas all arguments of DataFrame.drop except for the argument 'labels' will be keyword-only\n",
            "  df.drop(df.columns.difference(['qid','query']), 1, inplace=True)\n"
          ]
        },
        {
          "name": "stdout",
          "output_type": "stream",
          "text": [
            "          name       map      ndcg  recip_rank\n",
            "0   bm25_index  0.090422  0.230461    0.447457\n",
            "1     pn_index  0.090566  0.231453    0.444392\n",
            "2  bm25_index1  0.090410  0.230443    0.447514\n",
            "3    pn_index1  0.090570  0.231507    0.444436\n",
            "4  bm25_index2  0.074592  0.206147    0.407489\n",
            "5    pn_index2  0.076299  0.208595    0.412185\n"
          ]
        }
      ],
      "source": [
        "bm25_index = pt.BatchRetrieve(index, wmodel=bm25_weighting)\n",
        "pn_index = pt.BatchRetrieve(index, wmodel=pivoted_normalization_weighting)\n",
        "\n",
        "bm25_index1 = pt.BatchRetrieve(index1, wmodel=bm25_weighting)\n",
        "pn_index1 = pt.BatchRetrieve(index1, wmodel=pivoted_normalization_weighting)\n",
        "\n",
        "bm25_index2 = pt.BatchRetrieve(index2, wmodel=bm25_weighting)\n",
        "pn_index2 = pt.BatchRetrieve(index2, wmodel=pivoted_normalization_weighting)\n",
        "\n",
        "a = pt.Experiment(\n",
        "    [bm25_index, pn_index, bm25_index1, pn_index1, bm25_index2, pn_index2],\n",
        "    nf_dataset.get_topics(variant='title'),\n",
        "    nf_dataset.get_qrels(),\n",
        "    eval_metrics=[\"map\", \"ndcg\", 'recip_rank'],\n",
        "    names = ['bm25_index','pn_index', 'bm25_index1', 'pn_index1', 'bm25_index2','pn_index2'])\n",
        "\n",
        "print(a)\n",
        "# TODO"
      ]
    },
    {
      "cell_type": "markdown",
      "metadata": {
        "id": "xnRbY24fXssZ"
      },
      "source": [
        "### Task 3.4 Tune BM25 (5 points)\n",
        "\n",
        "BM25 has several hyperparameters as we discussed in class. What effects might these have on the performance for this dataset? In Task 3.4, you will change the hyperparameters of your BM25 function and evaluate the performance. Perform at least five `Experiment` evaluations where you alter each hyperparameter (e.g., five where you change $b$, keeping the other two constant). You are welcome to do more evaluations as well to help understand the impact of each value on the performance. For full credit, you must find at least one set of hyperparameter values that outperforms the default values on this dataset."
      ]
    },
    {
      "cell_type": "code",
      "execution_count": null,
      "metadata": {
        "colab": {
          "base_uri": "https://localhost:8080/"
        },
        "id": "sUyFJImUXssa",
        "outputId": "01fe9120-99d6-4a84-dc34-024ae3852d53"
      },
      "outputs": [
        {
          "name": "stderr",
          "output_type": "stream",
          "text": [
            "/usr/local/lib/python3.7/dist-packages/pyterrier/datasets.py:435: FutureWarning: In a future version of pandas all arguments of DataFrame.drop except for the argument 'labels' will be keyword-only\n",
            "  df.drop(df.columns.difference(['qid','query']), 1, inplace=True)\n"
          ]
        },
        {
          "name": "stdout",
          "output_type": "stream",
          "text": [
            "     name       map      ndcg  recip_rank\n",
            "0  bm25_1  0.089429  0.230038    0.445258\n"
          ]
        },
        {
          "name": "stderr",
          "output_type": "stream",
          "text": [
            "/usr/local/lib/python3.7/dist-packages/pyterrier/datasets.py:435: FutureWarning: In a future version of pandas all arguments of DataFrame.drop except for the argument 'labels' will be keyword-only\n",
            "  df.drop(df.columns.difference(['qid','query']), 1, inplace=True)\n"
          ]
        },
        {
          "name": "stdout",
          "output_type": "stream",
          "text": [
            "     name       map      ndcg  recip_rank\n",
            "0  bm25_2  0.089509  0.230112    0.444845\n"
          ]
        },
        {
          "name": "stderr",
          "output_type": "stream",
          "text": [
            "/usr/local/lib/python3.7/dist-packages/pyterrier/datasets.py:435: FutureWarning: In a future version of pandas all arguments of DataFrame.drop except for the argument 'labels' will be keyword-only\n",
            "  df.drop(df.columns.difference(['qid','query']), 1, inplace=True)\n"
          ]
        },
        {
          "name": "stdout",
          "output_type": "stream",
          "text": [
            "     name       map      ndcg  recip_rank\n",
            "0  bm25_3  0.089645  0.230159    0.444627\n"
          ]
        },
        {
          "name": "stderr",
          "output_type": "stream",
          "text": [
            "/usr/local/lib/python3.7/dist-packages/pyterrier/datasets.py:435: FutureWarning: In a future version of pandas all arguments of DataFrame.drop except for the argument 'labels' will be keyword-only\n",
            "  df.drop(df.columns.difference(['qid','query']), 1, inplace=True)\n"
          ]
        },
        {
          "name": "stdout",
          "output_type": "stream",
          "text": [
            "     name       map      ndcg  recip_rank\n",
            "0  bm25_4  0.089528  0.229407    0.440172\n"
          ]
        },
        {
          "name": "stderr",
          "output_type": "stream",
          "text": [
            "/usr/local/lib/python3.7/dist-packages/pyterrier/datasets.py:435: FutureWarning: In a future version of pandas all arguments of DataFrame.drop except for the argument 'labels' will be keyword-only\n",
            "  df.drop(df.columns.difference(['qid','query']), 1, inplace=True)\n"
          ]
        },
        {
          "name": "stdout",
          "output_type": "stream",
          "text": [
            "     name       map      ndcg  recip_rank\n",
            "0  bm25_5  0.090777  0.231223    0.452076\n"
          ]
        }
      ],
      "source": [
        "\n",
        "b = 0.01; k1 = 1.2; k3 = 8\n",
        "bm25_1 = pt.BatchRetrieve(index, wmodel=bm25_weighting)\n",
        "bm25_1_expr = pt.Experiment(\n",
        "    [bm25_1],\n",
        "    nf_dataset.get_topics(variant='title'),\n",
        "    nf_dataset.get_qrels(),\n",
        "    eval_metrics=[\"map\", \"ndcg\", 'recip_rank'],\n",
        "    names = ['bm25_1'])\n",
        "print(bm25_1_expr)\n",
        "\n",
        "b = 0.05; k1 = 1.2; k3 = 8\n",
        "bm25_2 = pt.BatchRetrieve(index, wmodel=bm25_weighting)\n",
        "bm25_2_expr = pt.Experiment(\n",
        "    [bm25_2],\n",
        "    nf_dataset.get_topics(variant='title'),\n",
        "    nf_dataset.get_qrels(),\n",
        "    eval_metrics=[\"map\", \"ndcg\", 'recip_rank'],\n",
        "    names = ['bm25_2'])\n",
        "print(bm25_2_expr)\n",
        "\n",
        "b = 0.1; k1 = 1.2; k3 = 8\n",
        "bm25_3 = pt.BatchRetrieve(index, wmodel=bm25_weighting)\n",
        "bm25_3_expr = pt.Experiment(\n",
        "    [bm25_3],\n",
        "    nf_dataset.get_topics(variant='title'),\n",
        "    nf_dataset.get_qrels(),\n",
        "    eval_metrics=[\"map\", \"ndcg\", 'recip_rank'],\n",
        "    names = ['bm25_3'])\n",
        "print(bm25_3_expr)\n",
        "\n",
        "\n",
        "b = 0.25; k1 = 1.2; k3 = 8\n",
        "bm25_4 = pt.BatchRetrieve(index, wmodel=bm25_weighting)\n",
        "bm25_4_expr = pt.Experiment(\n",
        "    [bm25_4],\n",
        "    nf_dataset.get_topics(variant='title'),\n",
        "    nf_dataset.get_qrels(),\n",
        "    eval_metrics=[\"map\", \"ndcg\", 'recip_rank'],\n",
        "    names = ['bm25_4'])\n",
        "print(bm25_4_expr)\n",
        "\n",
        "\n",
        "b = 0.5; k1 = 1.2; k3 = 8\n",
        "bm25_5 = pt.BatchRetrieve(index, wmodel=bm25_weighting)\n",
        "bm25_5_expr = pt.Experiment(\n",
        "    [bm25_5],\n",
        "    nf_dataset.get_topics(variant='title'),\n",
        "    nf_dataset.get_qrels(),\n",
        "    eval_metrics=[\"map\", \"ndcg\", 'recip_rank'],\n",
        "    names = ['bm25_5'])\n",
        "print(bm25_5_expr)\n",
        "\n",
        "# TODO"
      ]
    },
    {
      "cell_type": "markdown",
      "metadata": {
        "id": "n8QmMRj7Xssb"
      },
      "source": [
        "### Task 3.5 Write up your observations (10 points)\n",
        "\n",
        "Did BM25 outperform Pivoted Normalization? How did the choice in hyperparameters affect performance? In Task 3.5, you should write at least five sentences describe your observations on the performance. You should also generate separate plots showing the performance as you change each BM25 hyperparameter (three plots total); for example, one plot would have NDCG on the y-axis and $b$ on the x-axis and show NDCG changes relative the value of $b$. Use a line plot for this."
      ]
    },
    {
      "cell_type": "code",
      "execution_count": null,
      "metadata": {
        "colab": {
          "base_uri": "https://localhost:8080/",
          "height": 848
        },
        "id": "WPjFGtF0Xssc",
        "outputId": "509992ee-b5a9-48cd-82c7-7631d2b1f734"
      },
      "outputs": [
        {
          "data": {
            "image/png": "[encoded data removed]",
            "text/plain": [
              "<Figure size 432x288 with 1 Axes>"
            ]
          },
          "metadata": {
            "needs_background": "light"
          },
          "output_type": "display_data"
        },
        {
          "data": {
            "image/png": "[encoded data removed]",
            "text/plain": [
              "<Figure size 432x288 with 1 Axes>"
            ]
          },
          "metadata": {
            "needs_background": "light"
          },
          "output_type": "display_data"
        },
        {
          "data": {
            "image/png": "[encoded data removed]",
            "text/plain": [
              "<Figure size 432x288 with 1 Axes>"
            ]
          },
          "metadata": {
            "needs_background": "light"
          },
          "output_type": "display_data"
        }
      ],
      "source": [
        "# In task 3.3, it shows that in \"map\" and \"ndcg\" evaluation methods, pivoted normalization model have the better preformance than bm25 model in all data set.\n",
        "# In recop_rank evaluation method, bm25 have better performance than pivoted normalization model in first two data sets, while the last one is opposite.\n",
        "# I change the parameter of b to 0.01, 0.05, 0.1, 0.25, 0.5. \n",
        "# We can see that \"map\" and \"ndcg\" have similar trend. There is increasing trend from 0.01 to 0.1,\n",
        "# There is increasing trend from 0.01 to 0.1, while the performance of 0.25 point is worse than 0.1. And then, 0.5 point has the best performance followed by the down trend in 0.75 point.\n",
        "# The difference between two methods is that the worst performance in 'map' method is at 0.01 point while it is 0.25 point in 'ndcg' method.\n",
        "# In recip_rank method, there is general downtrend from 0.01 to 0.25, with a slight uptrend from 0.05 to 0.1. \n",
        "# It has the same trend as \"map\" and \"ndcg\" from 0.25 to 0.75, with the high peak at 0.5.\n",
        "\n",
        "# TODO (in your write-up document)\n",
        "import matplotlib.pyplot as plt\n",
        "\n",
        "x = [0.01, 0.05, 0.1, 0.25, 0.5, 0.75]\n",
        "y_map = [0.089429, 0.089509, 0.089645, 0.089528, 0.090777, 0.090422]\n",
        "y_ndcg = [0.230038, 0.230112, 0.230159, 0.229407, 0.231223, 0.230461]\n",
        "y_rank = [0.445258, 0.444845, 0.444627, 0.440172, 0.452076, 0.447457]\n",
        "\n",
        "plt.title('map plot')\n",
        "plt.plot(x, y_map)\n",
        "plt.xticks(ticks=x, labels=x, rotation=45)\n",
        "plt.show()\n",
        "\n",
        "plt.title('ndcg plot')\n",
        "plt.plot(x, y_ndcg)\n",
        "plt.xticks(ticks=x, labels=x, rotation=45)\n",
        "\n",
        "plt.show()\n",
        "\n",
        "plt.title('rank plot')\n",
        "plt.plot(x, y_rank)\n",
        "plt.xticks(ticks=x, labels=x, rotation=45)\n",
        "plt.show()\n",
        "\n"
      ]
    },
    {
      "cell_type": "markdown",
      "metadata": {
        "id": "egGvSuQHXssc"
      },
      "source": [
        "## Task 4.1 Implement your custom weighting function (25 points)\n",
        "\n",
        "The last part of the assignment will have you implement at least one retrieval function _different_ from BM25, Dirichlet Prior, and Pivoted Length Normalization (and any variations of these). You will be graded based on your best performing function. You’ll get full credit if your retrieval function can beat the provided baseline in the dataset, which is an untuned BM25 using PyTerrier's default parameters. By \"beat,\"' we mean that your implemented function and your choice of parameters should reach higher NDCG than the baseline on Kaggle for our dataset, which you can check at any time by running an Experiment with PyTerrier's BM25 implementation. _Full credit for this function depends on whether it can surpass an untuned BM25 ranking of the same dataset._\n",
        "\n",
        "Most of your time in this part of the assignment will be spent trying to see what kinds of adjustments you can make to a ranking function improve. In past years, nearly all students have managed to outperform BM25 so it is very much possible. You are welcomed to be creative in your approaches as well. The intent of this part is to help you understand how different parts of the function help or hurt ranking, which often is a very empirical and hands-on process when trying to fine-tune a ranker for a particular dataset.\n",
        "\n",
        "**Note:** Simply varying the value of parameters in Okapi/BM25, Dirichlet Prior or Pivoted Length Normalization does not count as a new retrieval function. The variations of any of the algorithms listed in the slides or in the textbooks also do not count as new functions."
      ]
    },
    {
      "cell_type": "code",
      "execution_count": 57,
      "metadata": {
        "colab": {
          "base_uri": "https://localhost:8080/",
          "height": 165
        },
        "id": "iWxStO3_Xssd",
        "outputId": "809ccd88-2c8b-4d36-f0d1-3a7f9dfc4c9d"
      },
      "outputs": [],
      "source": [
        "import math\n",
        "def my_custom_weighting(keyFreq, posting, entryStats, collStats):\n",
        "    '''\n",
        "\n",
        "    225676/0.7/5\n",
        "    tf = 1 + p1*pow(0.3, num_terms_in_doc)\n",
        "    a = p1*num_doc/df_t+1\n",
        "    b = 1/(1+avdl/doc_len)*(num_terms_in_doc)/(doc_len*p3+1)\n",
        "    score = a*tf*b\n",
        "\n",
        "    0.12949\n",
        "    idf = math.log((num_doc-df_t+0.5)/(df_t+0.5))\n",
        "    tf_no = 1 + math.log(1 + math.log(num_terms_in_doc))\n",
        "    tf_de = k1*(1-b1+b1*doc_len/avdl) + num_terms_in_doc\n",
        "    qtf = keyFreq\n",
        "    score = idf*tf_no/tf_de*qtf\n",
        "\n",
        "    Computes the Pivoted Normalization score of this document for a given query\n",
        "    \n",
        "    :param keyFrequency(float): the weight of the term in the query, usually 1 except during PRF.\n",
        "    :param posting(Posting): access to the information about the occurrence of the term in the current document (frequency, document length etc).\n",
        "    :param entryStats(EntryStatistics): access to the information about the occurrence of the term in the whole index (document frequency, etc.).\n",
        "    :param collStats(CollectionStatistics): access to the information about the index as a whole (number of documents, etc).\n",
        "    :return: the Pivoted Normalization score of this document for the given query\n",
        "\n",
        "    '''\n",
        "\n",
        "    k1 = 0.7; k3 = 5\n",
        "    num_doc = collStats.numberOfDocuments\n",
        "    num_token = collStats.numberOfTokens\n",
        "    avdl = num_token/num_doc\n",
        "    df_t = entryStats.getDocumentFrequency()\n",
        "\n",
        "    doc_len = posting.getDocumentLength()\n",
        "    num_terms_in_doc = posting.getFrequency()\n",
        "\n",
        "    a = 1+math.log(1+math.log(num_terms_in_doc))\n",
        "    b = math.log((num_doc+1)/df_t)\n",
        "    c = num_terms_in_doc+k1*(1-b+b*doc_len/avdl)\n",
        "    qtf = (k3+1)*keyFreq/(k3+keyFreq)\n",
        "    score = a*b*qtf\n",
        "\n",
        "    return score\n",
        "\n",
        "# bm25_model = pt.BatchRetrieve(index, wmodel='BM25')\n",
        "# my_model = pt.BatchRetrieve(index, wmodel=my_custom_weighting)\n",
        "\n",
        "# pt.Experiment(\n",
        "#     [bm25_model, my_model],\n",
        "#     nf_dataset.get_topics(variant='title'),\n",
        "#     nf_dataset.get_qrels(),\n",
        "#     eval_metrics=[\"ndcg\"],\n",
        "#     names = ['bm25_model','my_model'])"
      ]
    },
    {
      "cell_type": "markdown",
      "metadata": {
        "id": "rfGKk7dMXssd"
      },
      "source": [
        "### Task 4.2 Describe what your function does and why you designed it that way (10 points)\n",
        "=\n",
        "\n",
        "In the write-up document, write a paragraph of at least five sentences **explaining** what your function does, how you designed in, and why you decide to choose those hyperparameter values. You will lose points if you cannot explain why your function can reach a higher performance. You can use the constraints we discussed at the end of Lecture 4 too if those are helpful for motivating particular design choices."
      ]
    },
    {
      "cell_type": "code",
      "execution_count": null,
      "metadata": {
        "id": "2ZPJrUjhXsse"
      },
      "outputs": [],
      "source": [
        "# tf = (math.log(num_terms_in_doc)+1)*p3 : The increasing range will decrease with the num_terms_in_doc increasing.\n",
        "# The value will increase slightly with the num_terms_in_doc increasing\n",
        "\n",
        "# a = 1+math.log(1+math.log(num_terms_in_doc)) : The increasing range will decrease with the num_terms_in_doc increasing.\n",
        "# The value will increase slightly with the num_terms_in_doc increasing\n",
        "# b = math.log((num_doc+1)/df_t) : The score would be lower when more documents contain the term because it is not special in the document.\n",
        "# qtf = (k3+1)*keyFreq/(k3+keyFreq) : The weighting of the term. k3 is for increasing the weighting the term frequency in query. \n",
        "\n",
        "\n",
        "# TODO in separate document"
      ]
    },
    {
      "cell_type": "markdown",
      "metadata": {
        "id": "nQ5vTFYMXsse"
      },
      "source": [
        "### Task 4.3 Build the index for our test collection (0 points, but necessary for 4.1)\n",
        "\n",
        "In the earlier tasks, we used NFCorpus which is for medical IR. What if we switched the domain slightly? For Task 4, we'll use the [CORD19 dataset](https://github.com/allenai/cord19), which is an IR dataset for Covid-19 questions created by AI2. Please download the dataset from the [Kaggle InClass competition site](https://www.kaggle.com/t/46e34d98356c4ae7b91517a6564a7979). Please do not download this data from other sources as this might hurt your final performance. You are welcome to adjust the preprocessing steps to give you better performance."
      ]
    },
    {
      "cell_type": "code",
      "execution_count": 23,
      "metadata": {
        "colab": {
          "base_uri": "https://localhost:8080/"
        },
        "id": "tsjvwkSwXssf",
        "outputId": "143522cb-5bd0-4258-eb9a-03044bec4898"
      },
      "outputs": [
        {
          "name": "stdout",
          "output_type": "stream",
          "text": [
            "13:02:09.886 [main] WARN org.terrier.structures.indexing.Indexer - Adding an empty document to the index (8is9x9sc) - further warnings are suppressed\n",
            "13:05:44.757 [main] WARN org.terrier.structures.indexing.Indexer - Indexed 17 empty documents\n"
          ]
        }
      ],
      "source": [
        "import csv\n",
        "import pandas as pd\n",
        "\n",
        "with open('documents.csv', newline='') as f:\n",
        "    reader = csv.reader(f)\n",
        "    data = list(reader)\n",
        "data_dict = pd.DataFrame(data[1:], columns=data[0])\n",
        "\n",
        "\n",
        "with open('queries.csv', newline='') as f:\n",
        "    reader = csv.reader(f)\n",
        "    queries = list(reader)\n",
        "queries_dict = pd.DataFrame(queries[1:], columns=queries[0])\n",
        "\n",
        "\n",
        "with open('sample_submission.csv', newline='') as f:\n",
        "    reader = csv.reader(f)\n",
        "    sample = list(reader)\n",
        "sample_dict = pd.DataFrame(sample[1:], columns=sample[0])\n",
        "\n",
        "covid_index_dir = './covid19_index'\n",
        "covid_indexer = pt.DFIndexer(covid_index_dir, overwrite=True)\n",
        "covid_index_ref = covid_indexer.index(data_dict[\"text\"], data_dict[\"docno\"])\n",
        "covid_index_ref.toString()\n",
        "\n",
        "covid_index = pt.IndexFactory.of(covid_index_ref)\n",
        "\n",
        "# TODO"
      ]
    },
    {
      "cell_type": "markdown",
      "metadata": {
        "id": "xl3LEFQ6Xssf"
      },
      "source": [
        "### Task 4.4 Upload rankings for CORD19 to the KaggleInClass (0 points, but necessary for 4.1)\n",
        "\n",
        "Finally, let's see how your custom ranking function does! Use your custom weighting to score the documents for each query in CORD 19 below. Upload your relevance judgments to the [Kaggle InClass leaderboard](https://www.kaggle.com/t/46e34d98356c4ae7b91517a6564a7979) to see how well it works. Using your best parameters, for each query, report the most relevant five documents, using their document ID. A sample submission for just one query would look like the following as a table (you submit a .csv file):\n",
        "\n",
        "| QueryId | DocumentId | \n",
        "| --- | --- | \n",
        "| 116 | 1502 | \n",
        "| 116 | 6437 | \n",
        "| 116 | 2322 |\n",
        "| 116 | 6087 |\n",
        "| 116 | 2978 |\n"
      ]
    },
    {
      "cell_type": "code",
      "execution_count": 58,
      "metadata": {
        "colab": {
          "base_uri": "https://localhost:8080/"
        },
        "id": "mZFsox-bXssg",
        "outputId": "fe8c415c-782d-4eda-9a68-49bcb8743ee3"
      },
      "outputs": [
        {
          "name": "stdout",
          "output_type": "stream",
          "text": [
            "['jkrj0lbm', '8l411r1w', 'r0peje13', '8ccl9aui', '4dtk1kyh']\n",
            "['526elsrf', 'flr9nmog', 'a7yq1zu0', '124czudi', 'kftchnhz']\n",
            "['sp212tai', 'rhhafruq', 'zvvdqk4b', 'swi0klrl', 'vrc3vra0']\n",
            "['6q90bayx', 'yupsupp5', 'gs2wi7hr', 'vr7vm64u', '98bl3veh']\n",
            "['glqmu8cw', 'seaa46hz', 'ouvqboeh', '3hjnqf3r', 'y0ipvw9t']\n",
            "['gplcop2k', '62v5ej3c', 'hpyh2dxy', 'g7ogkdlc', 'a9clzlzb']\n",
            "['rko7qdqk', 'nkwgn3el', 'j59tm40d', 'xw0o5ca7', 'gu66wmjb']\n",
            "['jkrj0lbm', 'ya1w4wra', '1igydu3y', 'bturl9cx', 'o30ph6qv']\n",
            "['jkzxjk54', 'glah2z2m', '9hbgn66l', '4v3d86h3', 'ca4c6b8a']\n",
            "['yp8x5zwi', '1yo8win8', '41gd7rug', 'q5xc4m3j', 'n0nch8he']\n",
            "['4xyouawl', 'wpmsp5kj', '3uh9u03w', 'rv54ypn6', 't2e4bxsu']\n",
            "['13weny1n', 'l2fenhya', 'ts3llerc', 'vw4vul5j', 'usp8g0nq']\n",
            "['w6bk2x1n', '6a9to2w9', 'al7gffw2', 'oufm4msx', 'qp77vl6h']\n",
            "['v5egtgdo', '8ngri1x0', 'cywjp5jh', 'na3vrf5q', 'p48bw6s4']\n",
            "['awitkrbg', 'x5a9k1n5', '0a5fccio', 'le24tmn9', 't473tbm9']\n",
            "['tjplc5j6', '90qq0xsw', 'pdmfxssd', 'qz68gtd4', 'ou7w3zkv']\n",
            "['iwsa760n', 'pazjx1g5', 'gey0nidn', 'vjg2auh7', 'k2bvs7vk']\n",
            "['kshjqsdj', 'j0lpy07l', 'zwyueevh', 'aly3zuuh', '7ruoysxu']\n",
            "['i0ll585x', 'd26y5291', 'lyewg2c9', 'uhhk4t7f', '20ipkh78']\n",
            "['bwfrjrr9', 'roj3om68', 'mi0pmyo4', '3twud97m', '1pahpghb']\n",
            "['m4hmhsog', 'w69qfyvu', 'cqesmvk9', '8hvve871', '92ipp5ge']\n",
            "['1vimqhdp', 'c4pt07zk', 'nsp2t0i6', 'ld2a1gnv', '846vqdz7']\n",
            "['1nxfh9yt', 'gwefujal', 'n4dgqo73', 'mnxmb5pz', 'i7vtddsj']\n",
            "['vte52lah', 'nohilcmu', 'fiwkop60', 'i8uwia3a', 'grz8hhal']\n",
            "['tljjkvu5', 'qrhrv31x', '1vimqhdp', 'k2bvs7vk', 'qr4690wo']\n",
            "['oxc6nzee', '3e4mn5a8', 'azml9ly3', 'zlzuoeh2', 'eghlkbjo']\n",
            "['hwat5zz0', '1pnc889f', 'o3b5zm5l', '6qsk6mij', '6sf5xepa']\n",
            "['y32zotrr', '3jnhboif', '9whgh5b3', 'v8gzfpr4', 'u31ixcwa']\n",
            "['b4mdiont', '4yuw7jo3', 'jozd45ch', '855dbj30', 'qnccsstb']\n",
            "['c74zdtnn', 'bzeqs5oh', '6tcwu832', 'v6t9n2wh', 'aosmo568']\n",
            "['i7v9l6ii', '1ca2rrrz', '3saa7d76', '0ln9r2nq', '1ykji0c8']\n",
            "['z1qh8286', '9siu7wgs', '059q8e8i', 'bdt7snjp', 'nhf3rbwf']\n",
            "['v9ndmjzm', 'zpi7uis1', 'g4ak4t31', 'eeh2a0t8', 'vevsgkp6']\n",
            "['8hvve871', 'wwa71e7u', 'eujbxdqi', '3kl6cnht', 'wpb1mbaq']\n",
            "['h8k1jur8', 'cndb031c', '95ulxnwc', 'f2vtmokt', 'vsl94lhz']\n",
            "['imyfo83x', 'r5ejsk4t', 'e1wwhh42', 'h36q6qr6', '814l8cq0']\n",
            "['mjk4bjm2', 'v8xmnfko', 'u79ncd4s', 'tvbnv5gz', 'f0z8gcws']\n",
            "['108k7gng', 'wwfv10k9', 't64w99w0', 'on1nclkj', 'pobmam24']\n",
            "['insu3eav', '44babp7t', 'q521ofrq', 'h4tnz9x4', '7pjkdp0h']\n",
            "['jkrj0lbm', 'mjk4bjm2', '0gmtnkbh', 'ehprox1q', 'jfjrk9gy']\n",
            "['dad3sz74', 'yrl9w090', 'pl2ditn7', 'vkhcx9sf', 'k73zpjby']\n",
            "['c4tqioz1', 'alqc5dzq', '51rpry20', '86j5nx7c', '2ov173rp']\n",
            "['bmqt33yw', '42o9qs47', 've9fm15i', '4jjuwc9r', '1h5a4bit']\n",
            "['yp8x5zwi', '1yo8win8', '41gd7rug', '28utunid', 'qi1henyy']\n",
            "['qkjyv0d2', '2wam1qls', 'kmlios1x', 's73hljz9', 'ez64zbd8']\n",
            "['dgy7qbl5', 'br3ahtf7', 'mapu4r1z', '6q0y3ewu', 't9c26eld']\n",
            "['c4pt07zk', 'jpk8aplo', 'oe7rxaa9', 'j9v64q53', '1sj46fq2']\n",
            "['xhyqg5u2', 'qnlf5qfd', '4sxsyr6k', 'vgbhyzb9', 'r2x3awlw']\n",
            "['tz1ta3rc', 'gfrkqhzt', 'b5nvt2xq', 'funwi6sw', '3jhka8wl']\n",
            "['30dhqh0g', '4nrpcado', 'binxayw2', 'xbze5s3c', '69ldtdik']\n",
            "Index(['qid', 'docno'], dtype='object')\n"
          ]
        }
      ],
      "source": [
        "my_model = pt.BatchRetrieve(covid_index, wmodel=my_custom_weighting)\n",
        "qid_list = []\n",
        "docid_list = []\n",
        "for i in queries[1:]:\n",
        "  a = my_model.search(i[1])     \n",
        "  temp = list(a.head(5)['docno'])\n",
        "  docid_list.extend(temp)\n",
        "  for j in range(len(temp)):\n",
        "    qid_list.append(i[0])\n",
        "  print(temp)\n",
        "\n",
        "#print(docid_list)\n",
        "#print(qid_list)\n",
        "ans_dict = {'qid': qid_list, 'docno': docid_list}\n",
        "\n",
        "ans = pd.DataFrame(ans_dict)\n",
        "print(ans.columns)\n",
        "#ans.to_csv('ans.csv',sep='\\t')\n",
        "ans.to_csv(\"output.csv\", index=False)\n",
        "\n",
        "# TODO"
      ]
    }
  ],
  "metadata": {
    "colab": {
      "collapsed_sections": [],
      "provenance": []
    },
    "kernelspec": {
      "display_name": "Python 3.8.8 ('base')",
      "language": "python",
      "name": "python3"
    },
    "language_info": {
      "codemirror_mode": {
        "name": "ipython",
        "version": 3
      },
      "file_extension": ".py",
      "mimetype": "text/x-python",
      "name": "python",
      "nbconvert_exporter": "python",
      "pygments_lexer": "ipython3",
      "version": "3.8.8"
    },
    "vscode": {
      "interpreter": {
        "hash": "5edb762c8f1f97e30be1693b3bc33ef875ebeea771af1e2528afd5961b13c703"
      }
    }
  },
  "nbformat": 4,
  "nbformat_minor": 0
}
